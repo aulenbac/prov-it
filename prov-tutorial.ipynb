{
 "cells": [
  {
   "cell_type": "markdown",
   "metadata": {
    "toc": "true"
   },
   "source": [
    " # Table of Contents\n",
    "<div class=\"toc\" style=\"margin-top: 1em;\"><ul class=\"toc-item\" id=\"toc-level0\"><li><span><a href=\"http://localhost:8888/notebooks/work/biskets/prov-it/prov-tutorial.ipynb#Description\" data-toc-modified-id=\"Description-1\"><span class=\"toc-item-num\">1&nbsp;&nbsp;</span>Description</a></span></li><li><span><a href=\"http://localhost:8888/notebooks/work/biskets/prov-it/prov-tutorial.ipynb#Summary\" data-toc-modified-id=\"Summary-2\"><span class=\"toc-item-num\">2&nbsp;&nbsp;</span>Summary</a></span></li><li><span><a href=\"http://localhost:8888/notebooks/work/biskets/prov-it/prov-tutorial.ipynb#Setup-the-work-environment\" data-toc-modified-id=\"Setup-the-work-environment-3\"><span class=\"toc-item-num\">3&nbsp;&nbsp;</span>Setup the work environment</a></span><ul class=\"toc-item\"><li><span><a href=\"http://localhost:8888/notebooks/work/biskets/prov-it/prov-tutorial.ipynb#Operating-System\" data-toc-modified-id=\"Operating-System-3.1\"><span class=\"toc-item-num\">3.1&nbsp;&nbsp;</span>Operating System</a></span></li><li><span><a href=\"http://localhost:8888/notebooks/work/biskets/prov-it/prov-tutorial.ipynb#Python\" data-toc-modified-id=\"Python-3.2\"><span class=\"toc-item-num\">3.2&nbsp;&nbsp;</span>Python</a></span></li><li><span><a href=\"http://localhost:8888/notebooks/work/biskets/prov-it/prov-tutorial.ipynb#ProvStore-service\" data-toc-modified-id=\"ProvStore-service-3.3\"><span class=\"toc-item-num\">3.3&nbsp;&nbsp;</span>ProvStore service</a></span></li></ul></li><li><span><a href=\"http://localhost:8888/notebooks/work/biskets/prov-it/prov-tutorial.ipynb#Examples\" data-toc-modified-id=\"Examples-4\"><span class=\"toc-item-num\">4&nbsp;&nbsp;</span>Examples</a></span><ul class=\"toc-item\"><li><span><a href=\"http://localhost:8888/notebooks/work/biskets/prov-it/prov-tutorial.ipynb#Online-article\" data-toc-modified-id=\"Online-article-4.1\"><span class=\"toc-item-num\">4.1&nbsp;&nbsp;</span>Online article</a></span><ul class=\"toc-item\"><li><span><a href=\"http://localhost:8888/notebooks/work/biskets/prov-it/prov-tutorial.ipynb#Creating-a-PROV-document\" data-toc-modified-id=\"Creating-a-PROV-document-4.1.1\"><span class=\"toc-item-num\">4.1.1&nbsp;&nbsp;</span>Creating a PROV document</a></span></li><li><span><a href=\"http://localhost:8888/notebooks/work/biskets/prov-it/prov-tutorial.ipynb#Exporting-PROV-information-for-use-and-re-use\" data-toc-modified-id=\"Exporting-PROV-information-for-use-and-re-use-4.1.2\"><span class=\"toc-item-num\">4.1.2&nbsp;&nbsp;</span>Exporting PROV information for use and re-use</a></span><ul class=\"toc-item\"><li><span><a href=\"http://localhost:8888/notebooks/work/biskets/prov-it/prov-tutorial.ipynb#Graphical-representations\" data-toc-modified-id=\"Graphical-representations-4.1.2.1\"><span class=\"toc-item-num\">4.1.2.1&nbsp;&nbsp;</span>Graphical representations</a></span></li><li><span><a href=\"http://localhost:8888/notebooks/work/biskets/prov-it/prov-tutorial.ipynb#Export-the-provenance-in-PROV-JSON\" data-toc-modified-id=\"Export-the-provenance-in-PROV-JSON-4.1.2.2\"><span class=\"toc-item-num\">4.1.2.2&nbsp;&nbsp;</span>Export the provenance in PROV-JSON</a></span></li><li><span><a href=\"http://localhost:8888/notebooks/work/biskets/prov-it/prov-tutorial.ipynb#Serialize-the-provenance-in-XML\" data-toc-modified-id=\"Serialize-the-provenance-in-XML-4.1.2.3\"><span class=\"toc-item-num\">4.1.2.3&nbsp;&nbsp;</span>Serialize the provenance in XML</a></span></li><li><span><a href=\"http://localhost:8888/notebooks/work/biskets/prov-it/prov-tutorial.ipynb#Serialize-the-provenance-in-RDF\" data-toc-modified-id=\"Serialize-the-provenance-in-RDF-4.1.2.4\"><span class=\"toc-item-num\">4.1.2.4&nbsp;&nbsp;</span>Serialize the provenance in RDF</a></span></li></ul></li><li><span><a href=\"http://localhost:8888/notebooks/work/biskets/prov-it/prov-tutorial.ipynb#Store-and-retrieve-provenance-information-using-a-web-service\" data-toc-modified-id=\"Store-and-retrieve-provenance-information-using-a-web-service-4.1.3\"><span class=\"toc-item-num\">4.1.3&nbsp;&nbsp;</span>Store and retrieve provenance information using a web service</a></span><ul class=\"toc-item\"><li><span><a href=\"http://localhost:8888/notebooks/work/biskets/prov-it/prov-tutorial.ipynb#Using-the-API-key\" data-toc-modified-id=\"Using-the-API-key-4.1.3.1\"><span class=\"toc-item-num\">4.1.3.1&nbsp;&nbsp;</span>Using the API key</a></span></li><li><span><a href=\"http://localhost:8888/notebooks/work/biskets/prov-it/prov-tutorial.ipynb#Submit-the-provenence-document\" data-toc-modified-id=\"Submit-the-provenence-document-4.1.3.2\"><span class=\"toc-item-num\">4.1.3.2&nbsp;&nbsp;</span>Submit the provenence document</a></span></li><li><span><a href=\"http://localhost:8888/notebooks/work/biskets/prov-it/prov-tutorial.ipynb#Retrieve-the-provenance-document\" data-toc-modified-id=\"Retrieve-the-provenance-document-4.1.3.3\"><span class=\"toc-item-num\">4.1.3.3&nbsp;&nbsp;</span>Retrieve the provenance document</a></span></li><li><span><a href=\"http://localhost:8888/notebooks/work/biskets/prov-it/prov-tutorial.ipynb#Remove-the-provenance-document\" data-toc-modified-id=\"Remove-the-provenance-document-4.1.3.4\"><span class=\"toc-item-num\">4.1.3.4&nbsp;&nbsp;</span>Remove the provenance document</a></span></li></ul></li></ul></li><li><span><a href=\"http://localhost:8888/notebooks/work/biskets/prov-it/prov-tutorial.ipynb#State-Species-of-Greatest-Conservation-Need-(SGCN)\" data-toc-modified-id=\"State-Species-of-Greatest-Conservation-Need-(SGCN)-4.2\"><span class=\"toc-item-num\">4.2&nbsp;&nbsp;</span>State Species of Greatest Conservation Need (SGCN)</a></span></li><li><span><a href=\"http://localhost:8888/notebooks/work/biskets/prov-it/prov-tutorial.ipynb#Protected-Areas-Database-of-the-United-States-(PAD-US)\" data-toc-modified-id=\"Protected-Areas-Database-of-the-United-States-(PAD-US)-4.3\"><span class=\"toc-item-num\">4.3&nbsp;&nbsp;</span>Protected Areas Database of the United States (PAD-US)</a></span></li><li><span><a href=\"http://localhost:8888/notebooks/work/biskets/prov-it/prov-tutorial.ipynb#GAP-Species-Habitat-Models\" data-toc-modified-id=\"GAP-Species-Habitat-Models-4.4\"><span class=\"toc-item-num\">4.4&nbsp;&nbsp;</span>GAP Species Habitat Models</a></span><ul class=\"toc-item\"><li><span><a href=\"http://localhost:8888/notebooks/work/biskets/prov-it/prov-tutorial.ipynb#Squirrels\" data-toc-modified-id=\"Squirrels-4.4.1\"><span class=\"toc-item-num\">4.4.1&nbsp;&nbsp;</span>Squirrels</a></span></li></ul></li></ul></li><li><span><a href=\"http://localhost:8888/notebooks/work/biskets/prov-it/prov-tutorial.ipynb#Further-reading\" data-toc-modified-id=\"Further-reading-5\"><span class=\"toc-item-num\">5&nbsp;&nbsp;</span>Further reading</a></span></li></ul></div>"
   ]
  },
  {
   "cell_type": "markdown",
   "metadata": {},
   "source": [
    "# Description\n",
    "This notebook is a provenance tutorial for the Biogeographic Information System. \n",
    "\n",
    "While it includes examples drawn from our work in the Biogeographic Characterization Branch, this tutorial clearly follows the concepts and layout of the informative Jupyter notebook produced by [Trung Dong Huynh](https://github.com/trungdong) in 2014. Entitled _PROV Python Library - A Short Tutorial by Trung Dong Huynh_, his work is available under the Creative Commons Attribution-ShareAlike 4.0 International License. Please see his [PROV Tutorial.ipynb](https://github.com/trungdong/notebooks/blob/master/PROV%20Tutorial.ipynb) for additional insight and examples."
   ]
  },
  {
   "cell_type": "markdown",
   "metadata": {},
   "source": [
    "# Summary\n",
    "As a ready-made solution for the Biogeographic Information System, we are using the [`prov` Python library](https://pypi.python.org/pypi/prov) to create and maintain provenance documents and using the [ProvStore](https://provenance.ecs.soton.ac.uk/store/) service for storage and collaboration. The `prov` Python library closely follows the World Wide Web Consortium (W3C) [PROV Data Model](http://www.w3.org/TR/prov-dm/). Using it allows us to code our provenance work within the widely accepted W3C [PROV](https://www.w3.org/TR/prov-overview/) framework and capture an appropriate level of transparency and traceability. Using the PROV standard also facilitates the inter-operability and interchange of provenance information across networks (e.g., the World Wide Web). As an added benefit we can use the `prov` library to present our provenance information in various accepted text and graphics formats. The ProvStore service provides ready-made visualization and export tools for our work in addition to a straightforward, API-driven way to store PROV information and collaborate over the web. \n",
    "\n",
    "This notebook demonstrates how to use the library and the service to capture and trace provenance for a broad number of core [Biogeographic Information System](https://www.sciencebase.gov/catalog/item/54540d80e4b0dc779374504a) (BIS) activities. Specifically, there are examples that show how to:\n",
    "* create provenance statements with the `prov` library;\n",
    "* export the provenance to interoperable formats such as [PROV-N](http://www.w3.org/TR/prov-n/) and [PROV-JSON](https://provenance.ecs.soton.ac.uk/prov-json/);\n",
    "* create graphical representations with the `dot` program for better understanding, documentation and communication;\n",
    "* store and retrieve provenance on [ProvStore](https://provenance.ecs.soton.ac.uk/store) using their API; \n",
    "* retrieve and work with relevant items from [ScienceBase](https://www.sciencebase.gov/catalog/) to build provenance documents; and\n",
    "* provision the resulting products for use throughout the Biogeographic Information System."
   ]
  },
  {
   "cell_type": "markdown",
   "metadata": {},
   "source": [
    "# Setup the work environment\n",
    "These are one-time operations to install the software dependencies needed to work with the `prov` Python library and the ProvStore service. You will be able to use the software for future BIS-related work as well as this tutorial. Installation on your machine may require admin rights. As you know, software changes quickly, so always check for the latest versions and review the installation instructions appropriate for your work."
   ]
  },
  {
   "cell_type": "markdown",
   "metadata": {},
   "source": [
    "## Operating System\n",
    "At the operating system level you'll need AT&T's [Graphviz](http://www.graphviz.org/) to produce this tutorial's graphics. An enduring and oft-used tool on Unix-like operating systems, Graphviz is frequently provided as a package in Linux distributions. If you are working on Windows or MacOS, AT&T's executables can be [downloaded](http://www.graphviz.org/Download.php) from their website. These executables may not be the current versions and, as such, may be difficult to install on your system. Do not worry. There are alternatives. Please take a look at the [Third-Party (non-AT&T) Executable Packages](http://www.graphviz.org/Download..php) section for other installation options. [Homebrew](https://brew.sh) provides an easy to install and easy to maintain approach on the Mac side. \n",
    "\n",
    "After Graphviz is installed, make sure the `dot` program is on your operating system's path. "
   ]
  },
  {
   "cell_type": "markdown",
   "metadata": {},
   "source": [
    "## Python\n",
    "Next, using Python, add the [`prov`](https://pypi.python.org/pypi/prov) and the [`ProvStore`](https://provenance.ecs.soton.ac.uk/store/) software to your work environment. Your specific needs may vary but if you are working with [Anaconda](https://www.anaconda.com) install the [`prov` library](https://pypi.python.org/pypi/prov) on your local machine using [pip](http://pip.pypa.io/), a package management system for Python software. We'll be representing provenance with graphics as well as text so do your local install with support for producing visualizations and exporting standard graphic file formats. The `prov` library uses `dot` which is part of the [Graphviz](https://pypi.python.org/pypi/graphviz) package mentioned above. Use Python's `pip` command to install the `prov` library with support for the Graphviz `dot` program. At the command line, the bash command looks like this:\n",
    "\n",
    "```bash\n",
    "pip install prov[dot]\n",
    "```\n",
    "\n",
    "We'll also use Python tools to work with the [`ProvStore`](https://provenance.ecs.soton.ac.uk/store/) service. A wrapper for [ProvStore's REST API](https://provenance.ecs.soton.ac.uk/store/help/api/) is provided by the package [provstore-api](https://github.com/millar/provstore-api#installation). To install the API wrapper with `pip`, type this at the command line: \n",
    "\n",
    "```bash\n",
    "pip install provstore-api\n",
    "```\n",
    "\n",
    "You'll notice Python `import` statements scattered throughout the sections below. In this notebook, the `import` statements are located with the relevant tutorial section for clarity. When you write your own notebooks and scripts you may want to follow that pattern or decide to have all the `import` statements called out at the beginning. The choice is yours."
   ]
  },
  {
   "cell_type": "markdown",
   "metadata": {},
   "source": [
    "## ProvStore service\n",
    "For this tutorial, we will use [ProvStore](https://provenance.ecs.soton.ac.uk/store/), a repository for provenance documents, to store, retrieve and share the products we produce. If you want to follow along and store the documents you produce, [register for an account](https://provenance.ecs.soton.ac.uk/store/account/signup/). It is free. \n",
    "\n",
    "Strongly consider generating a unique  [API key](https://provenance.ecs.soton.ac.uk/store/account/developer/) for your account. Your key allows you to upload your documents directly using the the [provstore-api](https://github.com/millar/provstore-api#installation) wrapper package and [ProvStore's REST API](https://provenance.ecs.soton.ac.uk/store/help/api/). As you'll see in the examples below, this code-driven approach is much easier (and faster) than manually uploading your provenance documents to the service.\n",
    "\n"
   ]
  },
  {
   "cell_type": "markdown",
   "metadata": {},
   "source": [
    "# Examples\n",
    "Note that all the examples in this tutorial build upon the fundamental W3C PROV concepts of [entities](https://www.w3.org/TR/prov-primer/#entities), [activities](http://www.w3.org/TR/prov-primer/#activities) and [agents](http://www.w3.org/TR/prov-primer/#agents-and-responsibility). A working knowledge of these concepts is assumed for all of the examples. If you are unfamiliar with those concepts or need a refresher, visit the links before tackling the examples."
   ]
  },
  {
   "cell_type": "markdown",
   "metadata": {},
   "source": [
    "## Online article\n",
    "For our first example, we'll mock up the provenance for an online article, using it to introduce and work with the W3C PROV concepts of [entities](https://www.w3.org/TR/prov-primer/#entities), [activities](http://www.w3.org/TR/prov-primer/#activities) and [agents](http://www.w3.org/TR/prov-primer/#agents-and-responsibility). Our mocked provenance will be based on the Data Journalism scenario [Luc Moreau](http://www.ecs.soton.ac.uk/~lavm/) and [Paul Groth](http://pgroth.com/) lay out in their 2013 book [Provenance: An Introduction to PROV](http://www.provbook.org/). The book contains much greater detail and provides a richer context for understanding PROV than we'll provide here.  Fittingly, their PROV book has its own [website](http://www.provbook.org), [blog](http://blog.provbook.org), and the  detailed [provenance](http://www.provbook.org/provapi/documents/bk.svg) for the book itself. \n",
    "\n",
    "If you do not have access to the book, [Trung Dong Huynh](https://github.com/trungdong), called out above, [notes](https://github.com/trungdong/notebooks/blob/master/PROV%20Tutorial.ipynb) some of the same details and backing material for the scenario are freely available in a 2014 [slide presentation](http://www.provbook.org/tutorial/provenanceweek2014/prov-tutorial.pptx) put together by Moreau, Groth and Huynh. The material for the Data Journalism scenario starts around slide number 15. \n",
    "\n",
    "Please note that this online article example is taken virtually verbatum from Trung Dong Huynh's [PROV Tutorial.ipynb](https://github.com/trungdong/notebooks/blob/master/PROV%20Tutorial.ipynb) Jupyter notebook (accessed 14 November 2017). That said, any errors or ommissions are this author's."
   ]
  },
  {
   "cell_type": "markdown",
   "metadata": {},
   "source": [
    "### Creating a PROV document\n",
    "Our first step is to create a container to hold the information we wish to record and share over the web. We'll create a provenance document to serve as that container. Here we define a provenance document as a package of provenance statements and assertions. We'll create the new document, our package, and add formalized statements and assertions to represent the provenance of the online article. \n",
    "\n",
    "Using Python and the `prov` library installed above, import the `ProvDocument` class from `prov.model`"
   ]
  },
  {
   "cell_type": "code",
   "execution_count": 1,
   "metadata": {
    "ExecuteTime": {
     "end_time": "2018-03-22T01:52:56.655698Z",
     "start_time": "2018-03-22T01:52:56.619949Z"
    },
    "collapsed": true
   },
   "outputs": [],
   "source": [
    "from prov.model import ProvDocument"
   ]
  },
  {
   "cell_type": "markdown",
   "metadata": {},
   "source": [
    "and create an empty document, called `d1`, to hold our provenance information."
   ]
  },
  {
   "cell_type": "code",
   "execution_count": 2,
   "metadata": {
    "ExecuteTime": {
     "end_time": "2018-03-22T01:53:01.998661Z",
     "start_time": "2018-03-22T01:53:01.994967Z"
    },
    "collapsed": true
   },
   "outputs": [],
   "source": [
    "# Create a new, empty provenance document for the online article example\n",
    "d1 = ProvDocument() "
   ]
  },
  {
   "cell_type": "markdown",
   "metadata": {},
   "source": [
    "PROV uses [qualified names](http://www.w3.org/TR/prov-dm/#term-identifier) to refer to the various things or [entities](https://www.w3.org/TR/prov-primer/#entities) that we describe. Think as a qualified name as a web-enabled  identifier. For this tutorial, let's define the term \"qualified name\" as a representation of a Uniform Resource Identifier or [URI](http://en.wikipedia.org/wiki/Uniform_resource_identifier). Using a URI allows us to concisely identify a resource on a network such as the web. You use URIs every day when you work on the webhe  -- the familiar Uniform Resource Locator ([URL](https://en.wikipedia.org/wiki/URL)), aka \"web address\", is a type of URI. \n",
    "\n",
    "For our work, the qualified name URI takes the form `prefix:localpart`. We'll use the `prefix:localpart` pattern throughout this Jupyter notebook. To be valid, a qualified name must have a defined prefix. Let's follow this pattern for three of the entities in the article scenario, adding a `namespace` for each entity to our new provenance document using Python."
   ]
  },
  {
   "cell_type": "code",
   "execution_count": 3,
   "metadata": {
    "ExecuteTime": {
     "end_time": "2018-03-22T01:53:04.847202Z",
     "start_time": "2018-03-22T01:53:04.833627Z"
    }
   },
   "outputs": [
    {
     "data": {
      "text/plain": [
       "<Namespace: now {http://www.provbook.org/nownews/}>"
      ]
     },
     "execution_count": 3,
     "metadata": {},
     "output_type": "execute_result"
    }
   ],
   "source": [
    "# Declare namespaces for the first three qualified names used in the article example\n",
    "\n",
    "# Add namespace for the NowNews organization described in Moreau and Groth's Data Journalism scenario\n",
    "d1.add_namespace('now', 'http://www.provbook.org/nownews/')"
   ]
  },
  {
   "cell_type": "code",
   "execution_count": 4,
   "metadata": {
    "ExecuteTime": {
     "end_time": "2018-03-22T01:53:07.298377Z",
     "start_time": "2018-03-22T01:53:07.292101Z"
    }
   },
   "outputs": [
    {
     "data": {
      "text/plain": [
       "<Namespace: nowpeople {http://www.provbook.org/nownews/people/}>"
      ]
     },
     "execution_count": 4,
     "metadata": {},
     "output_type": "execute_result"
    }
   ],
   "source": [
    "# Add namespace for people who work at the NowNews organization\n",
    "d1.add_namespace('nowpeople', 'http://www.provbook.org/nownews/people/')"
   ]
  },
  {
   "cell_type": "code",
   "execution_count": 5,
   "metadata": {
    "ExecuteTime": {
     "end_time": "2018-03-22T01:53:08.590123Z",
     "start_time": "2018-03-22T01:53:08.583200Z"
    }
   },
   "outputs": [
    {
     "data": {
      "text/plain": [
       "<Namespace: bk {http://www.provbook.org/ns/#}>"
      ]
     },
     "execution_count": 5,
     "metadata": {},
     "output_type": "execute_result"
    }
   ],
   "source": [
    "# Add namespace for the PROV book by Moreau and Groth\n",
    "d1.add_namespace('bk', 'http://www.provbook.org/ns/#')"
   ]
  },
  {
   "cell_type": "markdown",
   "metadata": {},
   "source": [
    "Note that every time we add a namespace to our provenance document `d1`, a qualified name is returned using that `prefix:localpart` pattern. For example, when we added the namespace for the NowNews organization with the Python statement (`d1.add_namespace('now', 'http://www.provbook.org/nownews/'`), (`<Namespace: now {http://www.provbook.org/nownews/}>`) was returned.\n",
    "\n",
    "What does our document look like so far? Remember for this exercise we define a provenance document as a package of provenance statements and assertions. Assembling them in a structured way using the PROV standard promotes inter-operability and the interchange of provenance information across networks like the web. And, since the structured information adheres to the PROV standard, we can present the same information in a number of standardized formats, matching format to the need or converting the information on-the-fly. We explore several of these below. For now, let's use [PROV-N](https://www.w3.org/TR/prov-n/), a human-readable W3C notation for provenance, to see what is in the document. Using Python, print our `d1` document amd specify that this time we want to `get` the provenance information in PROV-N notation."
   ]
  },
  {
   "cell_type": "code",
   "execution_count": 6,
   "metadata": {
    "ExecuteTime": {
     "end_time": "2018-03-22T01:53:11.352553Z",
     "start_time": "2018-03-22T01:53:11.346132Z"
    }
   },
   "outputs": [
    {
     "name": "stdout",
     "output_type": "stream",
     "text": [
      "document\n",
      "  prefix nowpeople <http://www.provbook.org/nownews/people/>\n",
      "  prefix now <http://www.provbook.org/nownews/>\n",
      "  prefix bk <http://www.provbook.org/ns/#>\n",
      "  \n",
      "endDocument\n"
     ]
    }
   ],
   "source": [
    "# Print what is currently packaged in our document representing the information using the PROV-N notation\n",
    "print(d1.get_provn())"
   ]
  },
  {
   "cell_type": "markdown",
   "metadata": {},
   "source": [
    "As you can see, we now have three qualified names in our document. We'll use each of these three to specify the various associated [entities](http://www.w3.org/TR/prov-primer/#entities) and [agents](http://www.w3.org/TR/prov-primer/#agents-and-responsibility) relevant to our Data Journalism article. We'll also use them to appropriately and concisely relate these entities and agents to one another in our PROV compliant document, `d1`. Given the nature of PROV, we can easily add new qualified names to the document as we need them. We'll see several examples of this below.\n",
    "\n",
    "Working with the current three, let's specify several entities and agents. Add a PROV [entity](http://www.w3.org/TR/prov-primer/#entities) for the article itself:"
   ]
  },
  {
   "cell_type": "code",
   "execution_count": 7,
   "metadata": {
    "ExecuteTime": {
     "end_time": "2018-03-22T01:53:14.667253Z",
     "start_time": "2018-03-22T01:53:14.662005Z"
    }
   },
   "outputs": [
    {
     "data": {
      "text/plain": [
       "<ProvEntity: now:employment-article-v1.html>"
      ]
     },
     "execution_count": 7,
     "metadata": {},
     "output_type": "execute_result"
    }
   ],
   "source": [
    "# Add an entity for the first version of the article, now:employment-article-v1.html\n",
    "d1.entity('now:employment-article-v1.html')"
   ]
  },
  {
   "cell_type": "markdown",
   "metadata": {},
   "source": [
    "This statement creates the entity `now:employment-article-v1.html`. In [Moreau and Groth's](http://dx.doi.org/10.2200/S00528ED1V01Y201308WBE007) original Data Journalism scenario, `now:employment-article-v1.html` is the first version of the online article. Note how the `prov` library recognized `now` (which represents the organization NowNews) as a registered prefix. And note the library automatically converted that entity's identifier, provided as a string, into a valid qualified name. Print the document to see the three qualified names and the new entity in PROV-N notation."
   ]
  },
  {
   "cell_type": "code",
   "execution_count": 8,
   "metadata": {
    "ExecuteTime": {
     "end_time": "2018-03-22T01:53:17.274908Z",
     "start_time": "2018-03-22T01:53:17.269598Z"
    }
   },
   "outputs": [
    {
     "name": "stdout",
     "output_type": "stream",
     "text": [
      "document\n",
      "  prefix nowpeople <http://www.provbook.org/nownews/people/>\n",
      "  prefix now <http://www.provbook.org/nownews/>\n",
      "  prefix bk <http://www.provbook.org/ns/#>\n",
      "  \n",
      "  entity(now:employment-article-v1.html)\n",
      "endDocument\n"
     ]
    }
   ],
   "source": [
    "# Print what is currently packaged in our document using the PROV-N notation\n",
    "print(d1.get_provn())"
   ]
  },
  {
   "cell_type": "markdown",
   "metadata": {},
   "source": [
    "Next assign this newly created entity to `e1` with the Python statement"
   ]
  },
  {
   "cell_type": "code",
   "execution_count": 9,
   "metadata": {
    "ExecuteTime": {
     "end_time": "2018-03-22T01:53:20.269569Z",
     "start_time": "2018-03-22T01:53:20.266084Z"
    },
    "collapsed": true
   },
   "outputs": [],
   "source": [
    "e1 = d1.entity('now:employment-article-v1.html')"
   ]
  },
  {
   "cell_type": "markdown",
   "metadata": {},
   "source": [
    "In the Data Journalism scenario, Bob, who works at NowNews, is the person who wrote the first version of the article, the entity we have been working with. Formally, Bob can be ascribed responsibility for the activity of writing the first version of the article. Bob can be considered a PROV agent. (Follow this [link](http://www.w3.org/TR/prov-primer/#agents-and-responsibility) to better understand the concepts of agents and responsibility in W3C PROV.) \n",
    "\n",
    "Add the [agent](http://www.w3.org/TR/prov-primer/#agents-and-responsibility) called `nowpeople:Bob` to the `d1` document."
   ]
  },
  {
   "cell_type": "code",
   "execution_count": 10,
   "metadata": {
    "ExecuteTime": {
     "end_time": "2018-03-22T01:53:28.508989Z",
     "start_time": "2018-03-22T01:53:28.502423Z"
    }
   },
   "outputs": [
    {
     "data": {
      "text/plain": [
       "<ProvAgent: nowpeople:Bob>"
      ]
     },
     "execution_count": 10,
     "metadata": {},
     "output_type": "execute_result"
    }
   ],
   "source": [
    "# Agent: nowpeople:Bob\n",
    "d1.agent('nowpeople:Bob')"
   ]
  },
  {
   "cell_type": "markdown",
   "metadata": {},
   "source": [
    "Let's enrich our understanding of the provenance of our simple online article by appropriately relating the things in our document `d1` to one another. First, attribute the article `e1` to the author `nowpeople:Bob`. Keep in mind `e1` is a PROV entity and `nowpeople:Bob` is a PROV agent. "
   ]
  },
  {
   "cell_type": "code",
   "execution_count": 11,
   "metadata": {
    "ExecuteTime": {
     "end_time": "2018-03-22T01:53:31.779970Z",
     "start_time": "2018-03-22T01:53:31.774242Z"
    }
   },
   "outputs": [
    {
     "data": {
      "text/plain": [
       "<ProvAttribution: (now:employment-article-v1.html, nowpeople:Bob)>"
      ]
     },
     "execution_count": 11,
     "metadata": {},
     "output_type": "execute_result"
    }
   ],
   "source": [
    "# attribute the entity d1 to the agent Bob\n",
    "d1.wasAttributedTo(e1, 'nowpeople:Bob')"
   ]
  },
  {
   "cell_type": "code",
   "execution_count": 12,
   "metadata": {
    "ExecuteTime": {
     "end_time": "2018-03-22T01:53:34.582208Z",
     "start_time": "2018-03-22T01:53:34.577142Z"
    }
   },
   "outputs": [
    {
     "name": "stdout",
     "output_type": "stream",
     "text": [
      "document\n",
      "  prefix nowpeople <http://www.provbook.org/nownews/people/>\n",
      "  prefix now <http://www.provbook.org/nownews/>\n",
      "  prefix bk <http://www.provbook.org/ns/#>\n",
      "  \n",
      "  entity(now:employment-article-v1.html)\n",
      "  entity(now:employment-article-v1.html)\n",
      "  agent(nowpeople:Bob)\n",
      "  wasAttributedTo(now:employment-article-v1.html, nowpeople:Bob)\n",
      "endDocument\n"
     ]
    }
   ],
   "source": [
    "# Print what is currently packaged in our document using the PROV-N notation\n",
    "print(d1.get_provn())"
   ]
  },
  {
   "cell_type": "markdown",
   "metadata": {},
   "source": [
    "Our structured yet flexible approach allows us to add provenance information as we learn more and as our needs change. \n",
    "\n",
    "At this point, we have packaged information about the article itself and about the author who wrote the article. Now let's add information about the data used in the article. In the [Data Journalism scenario](http://www.provbook.org/), GovStat is a government statistics office that produced the data, `oesm11st.zip`, Bob and his colleagues used when they wrote the first version of the online article. GovStat serves the `oesm11st.zip` data from their FTP site, `govftp`. To capture this information, we add a fourth namespace to our document. Declare the namespace for GovStat's FTP site:"
   ]
  },
  {
   "cell_type": "code",
   "execution_count": 13,
   "metadata": {
    "ExecuteTime": {
     "end_time": "2018-03-22T01:53:39.866797Z",
     "start_time": "2018-03-22T01:53:39.861643Z"
    }
   },
   "outputs": [
    {
     "data": {
      "text/plain": [
       "<Namespace: govftp {ftp://ftp.bls.gov/pub/special.requests/oes/}>"
      ]
     },
     "execution_count": 13,
     "metadata": {},
     "output_type": "execute_result"
    }
   ],
   "source": [
    "# Add a namespace declaration for GovStat's FTP site\n",
    "d1.add_namespace('govftp', 'ftp://ftp.bls.gov/pub/special.requests/oes/')"
   ]
  },
  {
   "cell_type": "markdown",
   "metadata": {},
   "source": [
    "Let's work now to add the dataset entity, `govftp:oesm11st.zip`, to our document. According to the Data Journalism scenario, this dataset entity has several interesting characteristics in the way the data can be organized and used.  From that scenario's description we learn it is a `void:Dataset` and decide to include that information in our `d1` document. To do so, we reach out over the web to [DERI Vocabularies](http://vocab.deri.ie/) and add their namespace for the [Vocabulary of Interlinked Datasets](http://vocab.deri.ie/void#) (VoID). (Note: Although out of scope for this simple tutorial, the interested reader can learn more on this topic at https://www.w3.org/TR/void/ and http://vocab.deri.ie/void.)"
   ]
  },
  {
   "cell_type": "code",
   "execution_count": 14,
   "metadata": {
    "ExecuteTime": {
     "end_time": "2018-03-22T01:53:43.391822Z",
     "start_time": "2018-03-22T01:53:43.386175Z"
    }
   },
   "outputs": [
    {
     "data": {
      "text/plain": [
       "<Namespace: void {http://vocab.deri.ie/void#}>"
      ]
     },
     "execution_count": 14,
     "metadata": {},
     "output_type": "execute_result"
    }
   ],
   "source": [
    "# add namespace declaration for Vocabulary of Interlinked Datasets (VoID)\n",
    "d1.add_namespace('void', 'http://vocab.deri.ie/void#')"
   ]
  },
  {
   "cell_type": "markdown",
   "metadata": {},
   "source": [
    "Next we provide additional contextual information about the `oesm11st.zip` dataset by adding the explanatory label `employment-stats-2011`. "
   ]
  },
  {
   "cell_type": "code",
   "execution_count": 15,
   "metadata": {
    "ExecuteTime": {
     "end_time": "2018-03-22T01:53:47.121731Z",
     "start_time": "2018-03-22T01:53:47.114328Z"
    }
   },
   "outputs": [
    {
     "data": {
      "text/plain": [
       "<ProvEntity: govftp:oesm11st.zip>"
      ]
     },
     "execution_count": 15,
     "metadata": {},
     "output_type": "execute_result"
    }
   ],
   "source": [
    "# create the VoID dataset entity and include the explanatory lable `employment-stats-2011'\n",
    "d1.entity('govftp:oesm11st.zip', {'prov:label': 'employment-stats-2011', 'prov:type': 'void:Dataset'})"
   ]
  },
  {
   "cell_type": "markdown",
   "metadata": {},
   "source": [
    "We want to document the NowNews blog article `now:employment-article-v1.html` was derived from the `ovftp:oesm11st.zip` dataset. We also want to assert dataset itself came from GovStat's FTP site, `govftp`. We can document both with the single statement:"
   ]
  },
  {
   "cell_type": "code",
   "execution_count": 16,
   "metadata": {
    "ExecuteTime": {
     "end_time": "2018-03-22T01:53:51.590175Z",
     "start_time": "2018-03-22T01:53:51.582156Z"
    }
   },
   "outputs": [
    {
     "data": {
      "text/plain": [
       "<ProvDerivation: (now:employment-article-v1.html, govftp:oesm11st.zip)>"
      ]
     },
     "execution_count": 16,
     "metadata": {},
     "output_type": "execute_result"
    }
   ],
   "source": [
    "# assert 'now:employment-article-v1.html' was derived from a dataset at govftp\n",
    "d1.wasDerivedFrom('now:employment-article-v1.html', 'govftp:oesm11st.zip')"
   ]
  },
  {
   "cell_type": "markdown",
   "metadata": {},
   "source": [
    "There have been several additions to our provenance document. Let's `get` the current document with the Python `print` command and represent all the information using PROV-N notation. "
   ]
  },
  {
   "cell_type": "code",
   "execution_count": 17,
   "metadata": {
    "ExecuteTime": {
     "end_time": "2018-03-22T01:54:04.446041Z",
     "start_time": "2018-03-22T01:54:04.441258Z"
    }
   },
   "outputs": [
    {
     "name": "stdout",
     "output_type": "stream",
     "text": [
      "document\n",
      "  prefix nowpeople <http://www.provbook.org/nownews/people/>\n",
      "  prefix void <http://vocab.deri.ie/void#>\n",
      "  prefix now <http://www.provbook.org/nownews/>\n",
      "  prefix govftp <ftp://ftp.bls.gov/pub/special.requests/oes/>\n",
      "  prefix bk <http://www.provbook.org/ns/#>\n",
      "  \n",
      "  entity(now:employment-article-v1.html)\n",
      "  entity(now:employment-article-v1.html)\n",
      "  agent(nowpeople:Bob)\n",
      "  wasAttributedTo(now:employment-article-v1.html, nowpeople:Bob)\n",
      "  entity(govftp:oesm11st.zip, [prov:type=\"void:Dataset\", prov:label=\"employment-stats-2011\"])\n",
      "  wasDerivedFrom(now:employment-article-v1.html, govftp:oesm11st.zip, -, -, -)\n",
      "endDocument\n"
     ]
    }
   ],
   "source": [
    "# Examine the document so far\n",
    "print(d1.get_provn())"
   ]
  },
  {
   "cell_type": "markdown",
   "metadata": {},
   "source": [
    "At this point, our provenance document contains five qualified names, several entities, an agent, and several assertions. Next, we'll extend the document with a new activity, a usage, and a generation statement. Extending `d1` requires another namespace, `is`."
   ]
  },
  {
   "cell_type": "code",
   "execution_count": 18,
   "metadata": {
    "ExecuteTime": {
     "end_time": "2018-03-22T01:54:12.872952Z",
     "start_time": "2018-03-22T01:54:12.866085Z"
    }
   },
   "outputs": [
    {
     "data": {
      "text/plain": [
       "<Namespace: is {http://www.provbook.org/nownews/is/#}>"
      ]
     },
     "execution_count": 18,
     "metadata": {},
     "output_type": "execute_result"
    }
   ],
   "source": [
    "# Add another namespace\n",
    "d1.add_namespace('is', 'http://www.provbook.org/nownews/is/#')"
   ]
  },
  {
   "cell_type": "markdown",
   "metadata": {},
   "source": [
    "Now we can add an [activity](http://www.w3.org/TR/prov-primer/#activities). Here, the activity `is:writeArticle`."
   ]
  },
  {
   "cell_type": "code",
   "execution_count": 19,
   "metadata": {
    "ExecuteTime": {
     "end_time": "2018-03-22T01:54:16.060236Z",
     "start_time": "2018-03-22T01:54:16.053781Z"
    }
   },
   "outputs": [
    {
     "data": {
      "text/plain": [
       "<ProvActivity: is:writeArticle>"
      ]
     },
     "execution_count": 19,
     "metadata": {},
     "output_type": "execute_result"
    }
   ],
   "source": [
    "# Add a PROV activity\n",
    "d1.activity('is:writeArticle')"
   ]
  },
  {
   "cell_type": "markdown",
   "metadata": {},
   "source": [
    "Add PROV [usage](https://www.w3.org/ns/prov#U) which shows the `is:writeArticle` activity used the 'govftp:oesm11st.zip' entity. "
   ]
  },
  {
   "cell_type": "code",
   "execution_count": 20,
   "metadata": {
    "ExecuteTime": {
     "end_time": "2018-03-22T01:54:17.945631Z",
     "start_time": "2018-03-22T01:54:17.938044Z"
    }
   },
   "outputs": [
    {
     "data": {
      "text/plain": [
       "<ProvUsage: (is:writeArticle, govftp:oesm11st.zip)>"
      ]
     },
     "execution_count": 20,
     "metadata": {},
     "output_type": "execute_result"
    }
   ],
   "source": [
    "# Add a PROV Usage\n",
    "d1.used('is:writeArticle', 'govftp:oesm11st.zip')"
   ]
  },
  {
   "cell_type": "markdown",
   "metadata": {},
   "source": [
    "We'll also add a PROV [generation](https://www.w3.org/ns/prov#G) statement which shows the 'now:employment-article-v1.html' entity was produced (generated) by the 'is:writeArticle' activity."
   ]
  },
  {
   "cell_type": "code",
   "execution_count": 21,
   "metadata": {
    "ExecuteTime": {
     "end_time": "2018-03-22T01:54:22.883827Z",
     "start_time": "2018-03-22T01:54:22.877781Z"
    }
   },
   "outputs": [
    {
     "data": {
      "text/plain": [
       "<ProvGeneration: (now:employment-article-v1.html, is:writeArticle)>"
      ]
     },
     "execution_count": 21,
     "metadata": {},
     "output_type": "execute_result"
    }
   ],
   "source": [
    "# PROV Generation\n",
    "d1.wasGeneratedBy('now:employment-article-v1.html', 'is:writeArticle')"
   ]
  },
  {
   "cell_type": "markdown",
   "metadata": {},
   "source": [
    "We can examine these additions to `d1` with the same simple `print` statement we used above. Again, we decide to represent the information with the human-readable PROV-N notation ( the `get_provn` part of `(d1.get_provn())`)."
   ]
  },
  {
   "cell_type": "code",
   "execution_count": 22,
   "metadata": {
    "ExecuteTime": {
     "end_time": "2018-03-22T01:54:28.650054Z",
     "start_time": "2018-03-22T01:54:28.644131Z"
    }
   },
   "outputs": [
    {
     "name": "stdout",
     "output_type": "stream",
     "text": [
      "document\n",
      "  prefix nowpeople <http://www.provbook.org/nownews/people/>\n",
      "  prefix govftp <ftp://ftp.bls.gov/pub/special.requests/oes/>\n",
      "  prefix is <http://www.provbook.org/nownews/is/#>\n",
      "  prefix bk <http://www.provbook.org/ns/#>\n",
      "  prefix now <http://www.provbook.org/nownews/>\n",
      "  prefix void <http://vocab.deri.ie/void#>\n",
      "  \n",
      "  entity(now:employment-article-v1.html)\n",
      "  entity(now:employment-article-v1.html)\n",
      "  agent(nowpeople:Bob)\n",
      "  wasAttributedTo(now:employment-article-v1.html, nowpeople:Bob)\n",
      "  entity(govftp:oesm11st.zip, [prov:type=\"void:Dataset\", prov:label=\"employment-stats-2011\"])\n",
      "  wasDerivedFrom(now:employment-article-v1.html, govftp:oesm11st.zip, -, -, -)\n",
      "  activity(is:writeArticle, -, -)\n",
      "  used(is:writeArticle, govftp:oesm11st.zip, -)\n",
      "  wasGeneratedBy(now:employment-article-v1.html, is:writeArticle, -)\n",
      "endDocument\n"
     ]
    }
   ],
   "source": [
    "# Examine the document\n",
    "print(d1.get_provn())"
   ]
  },
  {
   "cell_type": "markdown",
   "metadata": {},
   "source": [
    "### Exporting PROV information for use and re-use"
   ]
  },
  {
   "cell_type": "markdown",
   "metadata": {},
   "source": [
    "#### Graphical representations\n",
    "\n",
    "We can use the same information in our `d1` document to create graphical representations for communication, better understanding, and documentation. We'll work with the `prov` library and the `dot` program to generate a visualization of the provenance. Using the [Graphviz](http://www.graphviz.org/) software we installed earlier, save the document as a graphic PNG file using these commands:"
   ]
  },
  {
   "cell_type": "code",
   "execution_count": 23,
   "metadata": {
    "ExecuteTime": {
     "end_time": "2018-03-22T01:54:32.420369Z",
     "start_time": "2018-03-22T01:54:32.236424Z"
    }
   },
   "outputs": [
    {
     "data": {
      "text/plain": [
       "True"
      ]
     },
     "execution_count": 23,
     "metadata": {},
     "output_type": "execute_result"
    }
   ],
   "source": [
    "# visualize the graph\n",
    "from prov.dot import prov_to_dot\n",
    "dot = prov_to_dot(d1)\n",
    "dot.write_png('article-prov.png')"
   ]
  },
  {
   "cell_type": "markdown",
   "metadata": {},
   "source": [
    "Using the Graphviz `dot` program, the commands pull the information together and render the provenance as a graphic in the PNG file format. That file, `article-prov.png`, is written to your current directory. If you are running this tutorial in Jupyter Notebook, you can render it in the notebook with these commands:"
   ]
  },
  {
   "cell_type": "code",
   "execution_count": 24,
   "metadata": {
    "ExecuteTime": {
     "end_time": "2018-03-22T01:54:34.512244Z",
     "start_time": "2018-03-22T01:54:34.500445Z"
    }
   },
   "outputs": [
    {
     "data": {
      "image/png": "[encoded data removed]",
      "text/plain": [
       "<IPython.core.display.Image object>"
      ]
     },
     "execution_count": 24,
     "metadata": {},
     "output_type": "execute_result"
    }
   ],
   "source": [
    "from IPython.display import Image\n",
    "Image('article-prov.png')"
   ]
  },
  {
   "cell_type": "markdown",
   "metadata": {},
   "source": [
    "Graphviz supports a variety of [raster and vector file outputs](http://www.graphviz.org/doc/info/output.html). For instance to export the graphic to a PDF instead, use this command:"
   ]
  },
  {
   "cell_type": "code",
   "execution_count": 25,
   "metadata": {
    "ExecuteTime": {
     "end_time": "2018-03-22T01:54:39.829707Z",
     "start_time": "2018-03-22T01:54:39.748967Z"
    }
   },
   "outputs": [
    {
     "data": {
      "text/plain": [
       "True"
      ]
     },
     "execution_count": 25,
     "metadata": {},
     "output_type": "execute_result"
    }
   ],
   "source": [
    "# Write the provenance information to a PDF\n",
    "dot.write_pdf('article-prov.pdf')"
   ]
  },
  {
   "cell_type": "markdown",
   "metadata": {},
   "source": [
    "Check the Graphviz raster and vector file outputs [link](http://www.graphviz.org/doc/info/output.html) to find out what other formats are available. "
   ]
  },
  {
   "cell_type": "markdown",
   "metadata": {},
   "source": [
    "#### Export the provenance in PROV-JSON\n",
    "The `prov` library can export information in [PROV-JSON](https://provenance.ecs.soton.ac.uk/prov-json/). PROV-JSON  was designed for accessing the various PROV elements in a W3C PROV-compliant document. PROV-JSON uses the JSON data-interchange format and is designed to work with web applications. It is natively supported by the `prov` library and is the default serialisation format. Use the following command to display the current `d1` document information in PROV-JSON:"
   ]
  },
  {
   "cell_type": "code",
   "execution_count": 26,
   "metadata": {
    "ExecuteTime": {
     "end_time": "2018-03-22T01:54:44.157824Z",
     "start_time": "2018-03-22T01:54:43.904195Z"
    }
   },
   "outputs": [
    {
     "name": "stdout",
     "output_type": "stream",
     "text": [
      "{\n",
      "  \"activity\": {\n",
      "    \"is:writeArticle\": {}\n",
      "  },\n",
      "  \"wasAttributedTo\": {\n",
      "    \"_:id1\": {\n",
      "      \"prov:agent\": \"nowpeople:Bob\",\n",
      "      \"prov:entity\": \"now:employment-article-v1.html\"\n",
      "    }\n",
      "  },\n",
      "  \"agent\": {\n",
      "    \"nowpeople:Bob\": {}\n",
      "  },\n",
      "  \"entity\": {\n",
      "    \"govftp:oesm11st.zip\": {\n",
      "      \"prov:type\": \"void:Dataset\",\n",
      "      \"prov:label\": \"employment-stats-2011\"\n",
      "    },\n",
      "    \"now:employment-article-v1.html\": [\n",
      "      {},\n",
      "      {}\n",
      "    ]\n",
      "  },\n",
      "  \"wasDerivedFrom\": {\n",
      "    \"_:id2\": {\n",
      "      \"prov:generatedEntity\": \"now:employment-article-v1.html\",\n",
      "      \"prov:usedEntity\": \"govftp:oesm11st.zip\"\n",
      "    }\n",
      "  },\n",
      "  \"prefix\": {\n",
      "    \"nowpeople\": \"http://www.provbook.org/nownews/people/\",\n",
      "    \"govftp\": \"ftp://ftp.bls.gov/pub/special.requests/oes/\",\n",
      "    \"is\": \"http://www.provbook.org/nownews/is/#\",\n",
      "    \"bk\": \"http://www.provbook.org/ns/#\",\n",
      "    \"now\": \"http://www.provbook.org/nownews/\",\n",
      "    \"void\": \"http://vocab.deri.ie/void#\"\n",
      "  },\n",
      "  \"wasGeneratedBy\": {\n",
      "    \"_:id4\": {\n",
      "      \"prov:activity\": \"is:writeArticle\",\n",
      "      \"prov:entity\": \"now:employment-article-v1.html\"\n",
      "    }\n",
      "  },\n",
      "  \"used\": {\n",
      "    \"_:id3\": {\n",
      "      \"prov:activity\": \"is:writeArticle\",\n",
      "      \"prov:entity\": \"govftp:oesm11st.zip\"\n",
      "    }\n",
      "  }\n",
      "}\n"
     ]
    }
   ],
   "source": [
    "print(d1.serialize(indent=2))"
   ]
  },
  {
   "cell_type": "markdown",
   "metadata": {},
   "source": [
    "To serialize the `d1` document to a file provide a filename or a Python File object. The file will be written to your current directory."
   ]
  },
  {
   "cell_type": "code",
   "execution_count": 27,
   "metadata": {
    "ExecuteTime": {
     "end_time": "2018-03-22T01:54:46.906677Z",
     "start_time": "2018-03-22T01:54:46.900900Z"
    },
    "collapsed": true
   },
   "outputs": [],
   "source": [
    "d1.serialize('article-prov.json')"
   ]
  },
  {
   "cell_type": "markdown",
   "metadata": {},
   "source": [
    "#### Serialize the provenance in XML\n",
    "The `prov` library also supports XML serializations for PROV. The syntax is similar to that used for PROV-JSON but requires the addition of the `xml` format specification."
   ]
  },
  {
   "cell_type": "code",
   "execution_count": 28,
   "metadata": {
    "ExecuteTime": {
     "end_time": "2018-03-22T01:54:50.168068Z",
     "start_time": "2018-03-22T01:54:50.157982Z"
    },
    "collapsed": true
   },
   "outputs": [],
   "source": [
    "d1.serialize('article-prov.xml', format='xml')"
   ]
  },
  {
   "cell_type": "markdown",
   "metadata": {},
   "source": [
    "See [PROV-XML](https://www.w3.org/TR/prov-xml/) for more information on using XML with W3C PROV."
   ]
  },
  {
   "cell_type": "markdown",
   "metadata": {},
   "source": [
    "#### Serialize the provenance in RDF\n",
    "[RDF](https://www.w3.org/RDF/) serialization is supported by the `prov` library. Exporting RDF requires specifying a RDF serialisation for the output. Here' we'll use the [Turtle format](https://www.w3.org/TR/turtle/). Note: please refer to the [RDFLib documentation](https://rdflib.readthedocs.io/) for available RDF serializations. To export the document's provenance information in RDF using Turtle format (`ttl`):"
   ]
  },
  {
   "cell_type": "code",
   "execution_count": 29,
   "metadata": {
    "ExecuteTime": {
     "end_time": "2018-03-22T01:54:53.952744Z",
     "start_time": "2018-03-22T01:54:53.923431Z"
    },
    "collapsed": true
   },
   "outputs": [],
   "source": [
    "d1.serialize('article-prov.ttl', format='rdf', rdf_format='ttl')"
   ]
  },
  {
   "cell_type": "markdown",
   "metadata": {},
   "source": [
    "See [PROV-O](https://www.w3.org/TR/prov-o/) for more information and context."
   ]
  },
  {
   "cell_type": "markdown",
   "metadata": {},
   "source": [
    "### Store and retrieve provenance information using a web service\n",
    "Uploading provenance documents to a publically available service provides a web-accessible place to store and retrieve those documents. And this approach promotes the inter-operability and interchange of this unique type of information across networks such as the World Wide Web. We'll do this for our example document using the [`ProvStore`](https://provenance.ecs.soton.ac.uk/store/) service, [their REST API](https://provenance.ecs.soton.ac.uk/store/help/api/) and the [provstore-api](https://github.com/millar/provstore-api#installation) Python package. \n",
    "\n",
    "To do this part of the tutorial, you will use the ProvStore account and API key set up earlier. Once your account is in place, and you have an API key, you can see your key on their [website]( https://provenance.ecs.soton.ac.uk/store/account/developer/). If you have problems return to the \"Setup the work environment\" section above and check your installation. Should you want more detail on the `provstore-api`, see their documentation [page](http://provstore-api.readthedocs.io/en/latest/provstore.html) on the readthedocs.io website."
   ]
  },
  {
   "cell_type": "markdown",
   "metadata": {},
   "source": [
    "#### Using the API key\n",
    "Configure the ProvStore API wrapper to use your key:"
   ]
  },
  {
   "cell_type": "code",
   "execution_count": 30,
   "metadata": {
    "ExecuteTime": {
     "end_time": "2018-03-22T01:55:04.542806Z",
     "start_time": "2018-03-22T01:55:04.375740Z"
    },
    "collapsed": true
   },
   "outputs": [],
   "source": [
    "# Configure ProvStore API wrapper with API Key\n",
    "from provstore.api import Api"
   ]
  },
  {
   "cell_type": "markdown",
   "metadata": {},
   "source": [
    "Then decide if you want to embed the `username` and `api-key`"
   ]
  },
  {
   "cell_type": "code",
   "execution_count": 31,
   "metadata": {
    "ExecuteTime": {
     "end_time": "2018-03-22T01:55:12.053155Z",
     "start_time": "2018-03-22T01:55:12.049588Z"
    },
    "collapsed": true
   },
   "outputs": [],
   "source": [
    "# Uncomment the line below to embed username and api-key (not recomended)\n",
    "\n",
    "# api = Api(username='<your-username>', api_key='<your-API-key>'"
   ]
  },
  {
   "cell_type": "markdown",
   "metadata": {},
   "source": [
    "or handle this at the OS level with the environment variables `PROVSTORE_USERNAME` and `PROVSTORE_API_KEY`"
   ]
  },
  {
   "cell_type": "code",
   "execution_count": 32,
   "metadata": {
    "ExecuteTime": {
     "end_time": "2018-03-22T01:55:20.221851Z",
     "start_time": "2018-03-22T01:55:20.217929Z"
    },
    "collapsed": true
   },
   "outputs": [],
   "source": [
    "# or omit username and api-key which forces the client to look for the  \n",
    "# PROVSTORE_USERNAME and PROVSTORE_API_KEY environment variables \n",
    "api = Api()"
   ]
  },
  {
   "cell_type": "markdown",
   "metadata": {},
   "source": [
    "#### Submit the provenence document"
   ]
  },
  {
   "cell_type": "code",
   "execution_count": 33,
   "metadata": {
    "ExecuteTime": {
     "end_time": "2018-03-22T01:55:27.370345Z",
     "start_time": "2018-03-22T01:55:25.661670Z"
    }
   },
   "outputs": [
    {
     "data": {
      "text/html": [
       "<a href=\"https://provenance.ecs.soton.ac.uk/store/documents/117965\" target=\"_blank\">Open this provenance document on ProvStore</a>"
      ],
      "text/plain": [
       "<IPython.core.display.HTML object>"
      ]
     },
     "execution_count": 33,
     "metadata": {},
     "output_type": "execute_result"
    }
   ],
   "source": [
    "# Submit the document to ProvStore, specifying if it is public or not\n",
    "provstore_document = api.document.create(d1, name='article-prov', public=False)\n",
    "\n",
    "# Generate a link to the document on ProvStore so you don't have to find it manually \n",
    "from IPython.display import HTML\n",
    "document_uri = provstore_document.url\n",
    "HTML('<a href=\"%s\" target=\"_blank\">Open this provenance document on ProvStore</a>' % document_uri)"
   ]
  },
  {
   "cell_type": "markdown",
   "metadata": {},
   "source": [
    "What just happened? The first statement submits the document `d1` to the ProvStore repository. Document names are required. This document was assigned the name `article-prov`. Note documents are private by default. If you want your document visible to everyone, set `public=True`. \n",
    "\n",
    "The second statement uses a little HTML-fu to create a direct link to the document you submitted to ProvStore. Click on the code-generated link generated to open the ProvStore page on ProvStore for the document. You may need to sign in.\n",
    "\n",
    "In addition to providing a repository, at the time of this writing (December 2017), ProvStore allows you to download the document in various formats (PROV-N, JSON, ADJMATRIX, TURTLE, TRIG, XML) and export graphics (PDF, PNG, SVG). You can also view and download the document's metrics, validate the document, review the assertions and visualize the information in various ways (e.g., Sankey, Wheel, Hive, and Gant). The service allows you to change the visibility  (public or private) of individual documents and manage it in other ways via the website's User Interface (UI) or their REST [API](https://provenance.ecs.soton.ac.uk/store/help/api/)."
   ]
  },
  {
   "cell_type": "markdown",
   "metadata": {},
   "source": [
    "#### Retrieve the provenance document\n",
    "ProvStore allows you to retrieve objects stored on the repository. The returned object is a wrapper for the document. Documents are identified by their `provstore_document.id`. Documents also have a `provstore_document.name`. Let's use `provstore_document.id` to retrieve our document from ProvStore. \n",
    "\n",
    "First, print the current information so we have something to check against: "
   ]
  },
  {
   "cell_type": "code",
   "execution_count": 34,
   "metadata": {
    "ExecuteTime": {
     "end_time": "2018-03-22T01:55:41.812331Z",
     "start_time": "2018-03-22T01:55:40.446918Z"
    }
   },
   "outputs": [
    {
     "name": "stdout",
     "output_type": "stream",
     "text": [
      "Our d1 provenance document is named article-prov on ProvStore. It can be retrieved from the repository using the API and the provstore_document.id 117965\n"
     ]
    }
   ],
   "source": [
    "print(\"Our d1 provenance document is named\", provstore_document.name, \"on ProvStore.\", \"It can be retrieved from the repository using the API and the provstore_document.id\", provstore_document.id, sep=\" \")"
   ]
  },
  {
   "cell_type": "code",
   "execution_count": 35,
   "metadata": {
    "ExecuteTime": {
     "end_time": "2018-03-22T01:55:53.794061Z",
     "start_time": "2018-03-22T01:55:51.662594Z"
    }
   },
   "outputs": [
    {
     "name": "stdout",
     "output_type": "stream",
     "text": [
      "Is the retrieved document the same as the original document? In other words, is it true that d1 == d2?\n",
      " True\n"
     ]
    }
   ],
   "source": [
    "# Retrieve the document from the ProvStore repository\n",
    "retrieved_document = api.document.get(provstore_document.id)\n",
    "d2 = retrieved_document.prov\n",
    "\n",
    "# Is it the same document we submitted?\n",
    "print(\"Is the retrieved document the same as the original document? In other words, is it true that d1 == d2?\\n\", d1 == d2, sep=\" \")  "
   ]
  },
  {
   "cell_type": "markdown",
   "metadata": {},
   "source": [
    "Print out the retrieved d2 document serialized as PROV-JSON."
   ]
  },
  {
   "cell_type": "code",
   "execution_count": 36,
   "metadata": {
    "ExecuteTime": {
     "end_time": "2018-03-22T01:55:54.747657Z",
     "start_time": "2018-03-22T01:55:54.741533Z"
    }
   },
   "outputs": [
    {
     "name": "stdout",
     "output_type": "stream",
     "text": [
      "{\n",
      "  \"activity\": {\n",
      "    \"now:is/#writeArticle\": {}\n",
      "  },\n",
      "  \"wasAttributedTo\": {\n",
      "    \"_:id1\": {\n",
      "      \"prov:agent\": \"now:people/Bob\",\n",
      "      \"prov:entity\": \"now:employment-article-v1.html\"\n",
      "    }\n",
      "  },\n",
      "  \"agent\": {\n",
      "    \"now:people/Bob\": {}\n",
      "  },\n",
      "  \"entity\": {\n",
      "    \"govftp:oesm11st.zip\": {\n",
      "      \"prov:type\": \"void:Dataset\",\n",
      "      \"prov:label\": \"employment-stats-2011\"\n",
      "    },\n",
      "    \"now:employment-article-v1.html\": [\n",
      "      {},\n",
      "      {}\n",
      "    ]\n",
      "  },\n",
      "  \"wasDerivedFrom\": {\n",
      "    \"_:id2\": {\n",
      "      \"prov:usedEntity\": \"govftp:oesm11st.zip\",\n",
      "      \"prov:generatedEntity\": \"now:employment-article-v1.html\"\n",
      "    }\n",
      "  },\n",
      "  \"prefix\": {\n",
      "    \"nowpeople\": \"http://www.provbook.org/nownews/people/\",\n",
      "    \"govftp\": \"ftp://ftp.bls.gov/pub/special.requests/oes/\",\n",
      "    \"is\": \"http://www.provbook.org/nownews/is/#\",\n",
      "    \"bk\": \"http://www.provbook.org/ns/#\",\n",
      "    \"now\": \"http://www.provbook.org/nownews/\",\n",
      "    \"void\": \"http://vocab.deri.ie/void#\"\n",
      "  },\n",
      "  \"wasGeneratedBy\": {\n",
      "    \"_:id3\": {\n",
      "      \"prov:activity\": \"now:is/#writeArticle\",\n",
      "      \"prov:entity\": \"now:employment-article-v1.html\"\n",
      "    }\n",
      "  },\n",
      "  \"used\": {\n",
      "    \"_:id4\": {\n",
      "      \"prov:activity\": \"now:is/#writeArticle\",\n",
      "      \"prov:entity\": \"govftp:oesm11st.zip\"\n",
      "    }\n",
      "  }\n",
      "}\n"
     ]
    }
   ],
   "source": [
    "print(d2.serialize(indent=2))"
   ]
  },
  {
   "cell_type": "markdown",
   "metadata": {},
   "source": [
    "Finally, let's retrieve the document's ProvStore URI:"
   ]
  },
  {
   "cell_type": "code",
   "execution_count": 37,
   "metadata": {
    "ExecuteTime": {
     "end_time": "2018-03-22T01:55:59.629923Z",
     "start_time": "2018-03-22T01:55:57.138188Z"
    }
   },
   "outputs": [
    {
     "data": {
      "text/plain": [
       "https://provenance.ecs.soton.ac.uk/store/api/v0/documents/117965"
      ]
     },
     "execution_count": 37,
     "metadata": {},
     "output_type": "execute_result"
    }
   ],
   "source": [
    "# Retrieve the original provenance document's URI on ProvStore\n",
    "api.document.get(provstore_document.id)"
   ]
  },
  {
   "cell_type": "markdown",
   "metadata": {},
   "source": [
    "#### Remove the provenance document\n",
    "The API provides a way to remove a document from the repository:"
   ]
  },
  {
   "cell_type": "code",
   "execution_count": 38,
   "metadata": {
    "ExecuteTime": {
     "end_time": "2018-03-22T01:56:12.530845Z",
     "start_time": "2018-03-22T01:56:10.954515Z"
    }
   },
   "outputs": [
    {
     "data": {
      "text/plain": [
       "True"
      ]
     },
     "execution_count": 38,
     "metadata": {},
     "output_type": "execute_result"
    }
   ],
   "source": [
    "# Cleanup, delete the document. Return True if deleted.\n",
    "retrieved_document.delete()"
   ]
  },
  {
   "cell_type": "code",
   "execution_count": 40,
   "metadata": {
    "ExecuteTime": {
     "end_time": "2018-03-22T01:58:37.122192Z",
     "start_time": "2018-03-22T01:58:35.935485Z"
    }
   },
   "outputs": [
    {
     "ename": "NotFoundException",
     "evalue": "",
     "output_type": "error",
     "traceback": [
      "\u001b[0;31m---------------------------------------------------------------------------\u001b[0m",
      "\u001b[0;31mNotFoundException\u001b[0m                         Traceback (most recent call last)",
      "\u001b[0;32m<ipython-input-40-064c766c4879>\u001b[0m in \u001b[0;36m<module>\u001b[0;34m()\u001b[0m\n\u001b[1;32m      1\u001b[0m \u001b[0;31m# Just to be sure it was deleted, try to retrieve it again\u001b[0m\u001b[0;34m\u001b[0m\u001b[0;34m\u001b[0m\u001b[0m\n\u001b[0;32m----> 2\u001b[0;31m \u001b[0mapi\u001b[0m\u001b[0;34m.\u001b[0m\u001b[0mdocument\u001b[0m\u001b[0;34m.\u001b[0m\u001b[0mget\u001b[0m\u001b[0;34m(\u001b[0m\u001b[0mprovstore_document\u001b[0m\u001b[0;34m.\u001b[0m\u001b[0mid\u001b[0m\u001b[0;34m)\u001b[0m\u001b[0;34m\u001b[0m\u001b[0m\n\u001b[0m\u001b[1;32m      3\u001b[0m \u001b[0;34m\u001b[0m\u001b[0m\n\u001b[1;32m      4\u001b[0m \u001b[0;31m# If the document was deleted, a lengthy NotFoundException error is thrown\u001b[0m\u001b[0;34m\u001b[0m\u001b[0;34m\u001b[0m\u001b[0m\n",
      "\u001b[0;32m~/anaconda/lib/python3.5/site-packages/provstore/document.py\u001b[0m in \u001b[0;36mget\u001b[0;34m(self, document_id)\u001b[0m\n\u001b[1;32m    130\u001b[0m             \u001b[0;32mraise\u001b[0m \u001b[0mImmutableDocumentException\u001b[0m\u001b[0;34m(\u001b[0m\u001b[0;34m)\u001b[0m\u001b[0;34m\u001b[0m\u001b[0m\n\u001b[1;32m    131\u001b[0m \u001b[0;34m\u001b[0m\u001b[0m\n\u001b[0;32m--> 132\u001b[0;31m         \u001b[0;32mreturn\u001b[0m \u001b[0mself\u001b[0m\u001b[0;34m.\u001b[0m\u001b[0mread\u001b[0m\u001b[0;34m(\u001b[0m\u001b[0mdocument_id\u001b[0m\u001b[0;34m)\u001b[0m\u001b[0;34m\u001b[0m\u001b[0m\n\u001b[0m\u001b[1;32m    133\u001b[0m \u001b[0;34m\u001b[0m\u001b[0m\n\u001b[1;32m    134\u001b[0m     \u001b[0;31m# Instance methods\u001b[0m\u001b[0;34m\u001b[0m\u001b[0;34m\u001b[0m\u001b[0m\n",
      "\u001b[0;32m~/anaconda/lib/python3.5/site-packages/provstore/document.py\u001b[0m in \u001b[0;36mread\u001b[0;34m(self, document_id)\u001b[0m\n\u001b[1;32m    145\u001b[0m         \u001b[0;34m:\u001b[0m\u001b[0;32mreturn\u001b[0m\u001b[0;34m:\u001b[0m \u001b[0mself\u001b[0m\u001b[0;34m\u001b[0m\u001b[0m\n\u001b[1;32m    146\u001b[0m         \"\"\"\n\u001b[0;32m--> 147\u001b[0;31m         \u001b[0mself\u001b[0m\u001b[0;34m.\u001b[0m\u001b[0mread_prov\u001b[0m\u001b[0;34m(\u001b[0m\u001b[0mdocument_id\u001b[0m\u001b[0;34m)\u001b[0m\u001b[0;34m\u001b[0m\u001b[0m\n\u001b[0m\u001b[1;32m    148\u001b[0m         \u001b[0mself\u001b[0m\u001b[0;34m.\u001b[0m\u001b[0mread_meta\u001b[0m\u001b[0;34m(\u001b[0m\u001b[0;34m)\u001b[0m\u001b[0;34m\u001b[0m\u001b[0m\n\u001b[1;32m    149\u001b[0m         \u001b[0;32mreturn\u001b[0m \u001b[0mself\u001b[0m\u001b[0;34m\u001b[0m\u001b[0m\n",
      "\u001b[0;32m~/anaconda/lib/python3.5/site-packages/provstore/document.py\u001b[0m in \u001b[0;36mread_prov\u001b[0;34m(self, document_id)\u001b[0m\n\u001b[1;32m    178\u001b[0m             \u001b[0;32mraise\u001b[0m \u001b[0mAbstractDocumentException\u001b[0m\u001b[0;34m(\u001b[0m\u001b[0;34m)\u001b[0m\u001b[0;34m\u001b[0m\u001b[0m\n\u001b[1;32m    179\u001b[0m \u001b[0;34m\u001b[0m\u001b[0m\n\u001b[0;32m--> 180\u001b[0;31m         \u001b[0mself\u001b[0m\u001b[0;34m.\u001b[0m\u001b[0m_prov\u001b[0m \u001b[0;34m=\u001b[0m \u001b[0mself\u001b[0m\u001b[0;34m.\u001b[0m\u001b[0m_api\u001b[0m\u001b[0;34m.\u001b[0m\u001b[0mget_document_prov\u001b[0m\u001b[0;34m(\u001b[0m\u001b[0mself\u001b[0m\u001b[0;34m.\u001b[0m\u001b[0mid\u001b[0m\u001b[0;34m)\u001b[0m\u001b[0;34m\u001b[0m\u001b[0m\n\u001b[0m\u001b[1;32m    181\u001b[0m         \u001b[0;32mreturn\u001b[0m \u001b[0mself\u001b[0m\u001b[0;34m.\u001b[0m\u001b[0m_prov\u001b[0m\u001b[0;34m\u001b[0m\u001b[0m\n\u001b[1;32m    182\u001b[0m \u001b[0;34m\u001b[0m\u001b[0m\n",
      "\u001b[0;32m~/anaconda/lib/python3.5/site-packages/provstore/api.py\u001b[0m in \u001b[0;36mget_document_prov\u001b[0;34m(self, document_id, prov_format)\u001b[0m\n\u001b[1;32m     96\u001b[0m \u001b[0;34m\u001b[0m\u001b[0m\n\u001b[1;32m     97\u001b[0m         r = self._request('get', self.base_url + \"/documents/%i.%s\" % (document_id, extension),\n\u001b[0;32m---> 98\u001b[0;31m                           headers=self.headers)\n\u001b[0m\u001b[1;32m     99\u001b[0m \u001b[0;34m\u001b[0m\u001b[0m\n\u001b[1;32m    100\u001b[0m         \u001b[0;32mif\u001b[0m \u001b[0mprov_format\u001b[0m \u001b[0;34m==\u001b[0m \u001b[0mProvDocument\u001b[0m\u001b[0;34m:\u001b[0m\u001b[0;34m\u001b[0m\u001b[0m\n",
      "\u001b[0;32m~/anaconda/lib/python3.5/site-packages/provstore/api.py\u001b[0m in \u001b[0;36m_request\u001b[0;34m(self, method, *args, **kwargs)\u001b[0m\n\u001b[1;32m     78\u001b[0m \u001b[0;34m\u001b[0m\u001b[0m\n\u001b[1;32m     79\u001b[0m         \u001b[0;32mif\u001b[0m \u001b[0mr\u001b[0m\u001b[0;34m.\u001b[0m\u001b[0mstatus_code\u001b[0m \u001b[0;34m==\u001b[0m \u001b[0;36m404\u001b[0m\u001b[0;34m:\u001b[0m\u001b[0;34m\u001b[0m\u001b[0m\n\u001b[0;32m---> 80\u001b[0;31m             \u001b[0;32mraise\u001b[0m \u001b[0mNotFoundException\u001b[0m\u001b[0;34m(\u001b[0m\u001b[0;34m)\u001b[0m\u001b[0;34m\u001b[0m\u001b[0m\n\u001b[0m\u001b[1;32m     81\u001b[0m         \u001b[0;32melse\u001b[0m\u001b[0;34m:\u001b[0m\u001b[0;34m\u001b[0m\u001b[0m\n\u001b[1;32m     82\u001b[0m             \u001b[0;31m# Fallback\u001b[0m\u001b[0;34m\u001b[0m\u001b[0;34m\u001b[0m\u001b[0m\n",
      "\u001b[0;31mNotFoundException\u001b[0m: "
     ]
    }
   ],
   "source": [
    "# Just to be sure it was deleted, try to retrieve it again\n",
    "api.document.get(provstore_document.id)  \n",
    "\n",
    "# If the document was deleted, a lengthy NotFoundException error is thrown"
   ]
  },
  {
   "cell_type": "markdown",
   "metadata": {},
   "source": [
    "## State Species of Greatest Conservation Need (SGCN)"
   ]
  },
  {
   "cell_type": "markdown",
   "metadata": {},
   "source": [
    "## Protected Areas Database of the United States (PAD-US)"
   ]
  },
  {
   "cell_type": "markdown",
   "metadata": {},
   "source": [
    "## GAP Species Habitat Models\n",
    "The GAP Species Habitat models are currently in review. All the assets and products are embargoed until the models are authorized for release. Until they are publically released, we'll build upon our understanding of PROV with a few conceptual examples."
   ]
  },
  {
   "cell_type": "markdown",
   "metadata": {},
   "source": [
    "### Squirrels\n",
    "How about an example that illustrates versioning models produced for the Abert's squirrel, Sciurus aberti? "
   ]
  },
  {
   "cell_type": "code",
   "execution_count": 41,
   "metadata": {
    "ExecuteTime": {
     "end_time": "2018-03-22T02:40:57.428831Z",
     "start_time": "2018-03-22T02:40:57.424374Z"
    },
    "collapsed": true
   },
   "outputs": [],
   "source": [
    "# Create a new, empty provenance document\n",
    "from prov.model import ProvDocument\n",
    "s1 = ProvDocument() "
   ]
  },
  {
   "cell_type": "code",
   "execution_count": 42,
   "metadata": {
    "ExecuteTime": {
     "end_time": "2018-03-22T02:41:40.745308Z",
     "start_time": "2018-03-22T02:41:40.583331Z"
    }
   },
   "outputs": [
    {
     "name": "stdout",
     "output_type": "stream",
     "text": [
      "document\n",
      "  prefix bis <http://www.example.org/ns/#>\n",
      "  prefix void <http://vocab.deri.ie/void#>\n",
      "  \n",
      "  entity(bis:aberts-squirrel-gap-model)\n",
      "  entity(bis:aberts-squirrel-gap-model-v17)\n",
      "  specializationOf(bis:aberts-squirrel-gap-model-v17, bis:aberts-squirrel-gap-model)\n",
      "  entity(bis:aberts-squirrel-gap-model-v20)\n",
      "  wasDerivedFrom(bis:aberts-squirrel-gap-model-v20, bis:aberts-squirrel-gap-model-v17, -, -, -, [prov:type='prov:Revision'])\n",
      "  entity(bis:aberts-squirrel-gap-habitat-map)\n",
      "  entity(bis:aberts-squirrel-gap-habitat-map-v3)\n",
      "  specializationOf(bis:aberts-squirrel-gap-habitat-map-v3, bis:aberts-squirrel-gap-habitat-map)\n",
      "  wasDerivedFrom(bis:aberts-squirrel-gap-habitat-map-v3, bis:aberts-squirrel-gap-model-v20, -, -, -)\n",
      "  entity(bis:aberts-squirrel-gap-range-map)\n",
      "  entity(bis:aberts-squirrel-gap-range-map-v8)\n",
      "  specializationOf(bis:aberts-squirrel-gap-range-map-v8, bis:aberts-squirrel-gap-range-map)\n",
      "  wasDerivedFrom(bis:aberts-squirrel-gap-range-map-v8, bis:aberts-squirrel-gap-model-v17, -, -, -)\n",
      "endDocument\n"
     ]
    },
    {
     "data": {
      "image/png": "[encoded data removed]",
      "text/plain": [
       "<IPython.core.display.Image object>"
      ]
     },
     "execution_count": 42,
     "metadata": {},
     "output_type": "execute_result"
    }
   ],
   "source": [
    "# mock in a namespace for bis\n",
    "s1.add_namespace('bis', 'http://www.example.org/ns/#')\n",
    "# add namespace declaration for Vocabulary of Interlinked Datasets (VoID)\n",
    "s1.add_namespace('void', 'http://vocab.deri.ie/void#')\n",
    "\n",
    "s1.entity('bis:aberts-squirrel-gap-model')\n",
    "\n",
    "s1.entity('bis:aberts-squirrel-gap-model-v17')\n",
    "s1.specializationOf('bis:aberts-squirrel-gap-model-v17','bis:aberts-squirrel-gap-model')\n",
    "\n",
    "s1.entity('bis:aberts-squirrel-gap-model-v20')\n",
    "s1.wasRevisionOf('bis:aberts-squirrel-gap-model-v20', 'bis:aberts-squirrel-gap-model-v17')\n",
    "\n",
    "s1.entity('bis:aberts-squirrel-gap-habitat-map')\n",
    "# s1.wasDerivedFrom('bis:aberts-squirrel-gap-habitat-map', 'bis:aberts-squirrel-gap-model')\n",
    "s1.entity('bis:aberts-squirrel-gap-habitat-map-v3')\n",
    "s1.specializationOf('bis:aberts-squirrel-gap-habitat-map-v3','bis:aberts-squirrel-gap-habitat-map')\n",
    "s1.wasDerivedFrom('bis:aberts-squirrel-gap-habitat-map-v3', 'bis:aberts-squirrel-gap-model-v20')\n",
    "\n",
    "s1.entity('bis:aberts-squirrel-gap-range-map')\n",
    "# s1.wasDerivedFrom('bis:aberts-squirrel-gap-range-map', 'bis:aberts-squirrel-gap-model')\n",
    "s1.entity('bis:aberts-squirrel-gap-range-map-v8')\n",
    "s1.specializationOf('bis:aberts-squirrel-gap-range-map-v8', 'bis:aberts-squirrel-gap-range-map')\n",
    "s1.wasDerivedFrom('bis:aberts-squirrel-gap-range-map-v8', 'bis:aberts-squirrel-gap-model-v17')\n",
    "\n",
    "print(s1.get_provn())\n",
    "\n",
    "# visualize the graph\n",
    "from prov.dot import prov_to_dot\n",
    "dot = prov_to_dot(s1)\n",
    "dot.write_png('aberts-squirrel-prov.png')\n",
    "\n",
    "from IPython.display import Image\n",
    "Image('aberts-squirrel-prov.png')"
   ]
  },
  {
   "cell_type": "code",
   "execution_count": 43,
   "metadata": {
    "ExecuteTime": {
     "end_time": "2018-03-22T02:42:51.948643Z",
     "start_time": "2018-03-22T02:41:58.458795Z"
    }
   },
   "outputs": [
    {
     "name": "stdout",
     "output_type": "stream",
     "text": [
      "Once deleted, variables cannot be recovered. Proceed (y/[n])? n\n",
      "Nothing done.\n"
     ]
    }
   ],
   "source": [
    "%reset"
   ]
  },
  {
   "cell_type": "markdown",
   "metadata": {},
   "source": [
    "# Further reading"
   ]
  },
  {
   "cell_type": "markdown",
   "metadata": {},
   "source": [
    "* [Overview of the PROV standards](http://www.w3.org/TR/prov-overview/)\n",
    "* [Prov Python library's documentation](http://prov.readthedocs.io/)\n",
    "* [ProvStore's API documentation](https://provenance.ecs.soton.ac.uk/store/help/api/)\n",
    "* Book: [Provenance: An Introduction to PROV](http://www.provbook.org/)\n",
    "* Notebook: [PROV Python Library - A Short Tutorial by Trung Dong Huynh]((https://github.com/trungdong/notebooks/blob/master/PROV%20Tutorial.ipynb)"
   ]
  }
 ],
 "metadata": {
  "kernelspec": {
   "display_name": "Python [conda root]",
   "language": "python",
   "name": "conda-root-py"
  },
  "language_info": {
   "codemirror_mode": {
    "name": "ipython",
    "version": 3
   },
   "file_extension": ".py",
   "mimetype": "text/x-python",
   "name": "python",
   "nbconvert_exporter": "python",
   "pygments_lexer": "ipython3",
   "version": "3.5.4"
  },
  "toc": {
   "nav_menu": {},
   "number_sections": true,
   "sideBar": true,
   "skip_h1_title": false,
   "toc_cell": true,
   "toc_position": {},
   "toc_section_display": "block",
   "toc_window_display": false
  },
  "varInspector": {
   "cols": {
    "lenName": 16,
    "lenType": 16,
    "lenVar": 40
   },
   "kernels_config": {
    "python": {
     "delete_cmd_postfix": "",
     "delete_cmd_prefix": "del ",
     "library": "var_list.py",
     "varRefreshCmd": "print(var_dic_list())"
    },
    "r": {
     "delete_cmd_postfix": ") ",
     "delete_cmd_prefix": "rm(",
     "library": "var_list.r",
     "varRefreshCmd": "cat(var_dic_list()) "
    }
   },
   "oldHeight": 123.64705896377563,
   "position": {
    "height": "146px",
    "left": "864.1176147460938px",
    "right": "20px",
    "top": "120px",
    "width": "351px"
   },
   "types_to_exclude": [
    "module",
    "function",
    "builtin_function_or_method",
    "instance",
    "_Feature"
   ],
   "varInspector_section_display": "block",
   "window_display": false
  },
  "widgets": {
   "application/vnd.jupyter.widget-state+json": {
    "state": {},
    "version_major": 1,
    "version_minor": 0
   }
  }
 },
 "nbformat": 4,
 "nbformat_minor": 1
}

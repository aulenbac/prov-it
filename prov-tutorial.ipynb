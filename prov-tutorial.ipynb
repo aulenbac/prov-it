{
 "cells": [
  {
   "cell_type": "markdown",
   "metadata": {
    "toc": "true"
   },
   "source": [
    " # Table of Contents\n",
    "<div class=\"toc\" style=\"margin-top: 1em;\"><ul class=\"toc-item\" id=\"toc-level0\"><li><span><a href=\"http://localhost:8888/notebooks/work/bisdev/prov-it/prov-tutorial.ipynb#Description\" data-toc-modified-id=\"Description-1\"><span class=\"toc-item-num\">1&nbsp;&nbsp;</span>Description</a></span></li><li><span><a href=\"http://localhost:8888/notebooks/work/bisdev/prov-it/prov-tutorial.ipynb#Summary\" data-toc-modified-id=\"Summary-2\"><span class=\"toc-item-num\">2&nbsp;&nbsp;</span>Summary</a></span></li><li><span><a href=\"http://localhost:8888/notebooks/work/bisdev/prov-it/prov-tutorial.ipynb#Setup-the-work-environment\" data-toc-modified-id=\"Setup-the-work-environment-3\"><span class=\"toc-item-num\">3&nbsp;&nbsp;</span>Setup the work environment</a></span><ul class=\"toc-item\"><li><span><a href=\"http://localhost:8888/notebooks/work/bisdev/prov-it/prov-tutorial.ipynb#Operating-System\" data-toc-modified-id=\"Operating-System-3.1\"><span class=\"toc-item-num\">3.1&nbsp;&nbsp;</span>Operating System</a></span></li><li><span><a href=\"http://localhost:8888/notebooks/work/bisdev/prov-it/prov-tutorial.ipynb#Python\" data-toc-modified-id=\"Python-3.2\"><span class=\"toc-item-num\">3.2&nbsp;&nbsp;</span>Python</a></span></li></ul></li><li><span><a href=\"http://localhost:8888/notebooks/work/bisdev/prov-it/prov-tutorial.ipynb#Examples\" data-toc-modified-id=\"Examples-4\"><span class=\"toc-item-num\">4&nbsp;&nbsp;</span>Examples</a></span><ul class=\"toc-item\"><li><span><a href=\"http://localhost:8888/notebooks/work/bisdev/prov-it/prov-tutorial.ipynb#An-article\" data-toc-modified-id=\"An-article-4.1\"><span class=\"toc-item-num\">4.1&nbsp;&nbsp;</span>An article</a></span><ul class=\"toc-item\"><li><span><a href=\"http://localhost:8888/notebooks/work/bisdev/prov-it/prov-tutorial.ipynb#Create-a-PROV-document\" data-toc-modified-id=\"Create-a-PROV-document-4.1.1\"><span class=\"toc-item-num\">4.1.1&nbsp;&nbsp;</span>Create a PROV document</a></span></li><li><span><a href=\"http://localhost:8888/notebooks/work/bisdev/prov-it/prov-tutorial.ipynb#Graphics-export-(PNG-and-PDF)\" data-toc-modified-id=\"Graphics-export-(PNG-and-PDF)-4.1.2\"><span class=\"toc-item-num\">4.1.2&nbsp;&nbsp;</span>Graphics export (PNG and PDF)</a></span></li><li><span><a href=\"http://localhost:8888/notebooks/work/bisdev/prov-it/prov-tutorial.ipynb#PROV-JSON-export\" data-toc-modified-id=\"PROV-JSON-export-4.1.3\"><span class=\"toc-item-num\">4.1.3&nbsp;&nbsp;</span>PROV-JSON export</a></span></li><li><span><a href=\"http://localhost:8888/notebooks/work/bisdev/prov-it/prov-tutorial.ipynb#XML-and-RDF-Support\" data-toc-modified-id=\"XML-and-RDF-Support-4.1.4\"><span class=\"toc-item-num\">4.1.4&nbsp;&nbsp;</span>XML and RDF Support</a></span></li><li><span><a href=\"http://localhost:8888/notebooks/work/bisdev/prov-it/prov-tutorial.ipynb#Store-and-retrieve-the--provenance-document-from-ProvStore\" data-toc-modified-id=\"Store-and-retrieve-the--provenance-document-from-ProvStore-4.1.5\"><span class=\"toc-item-num\">4.1.5&nbsp;&nbsp;</span>Store and retrieve the  provenance document from ProvStore</a></span></li></ul></li><li><span><a href=\"http://localhost:8888/notebooks/work/bisdev/prov-it/prov-tutorial.ipynb#PAD-US\" data-toc-modified-id=\"PAD-US-4.2\"><span class=\"toc-item-num\">4.2&nbsp;&nbsp;</span>PAD-US</a></span></li></ul></li><li><span><a href=\"http://localhost:8888/notebooks/work/bisdev/prov-it/prov-tutorial.ipynb#Further-reading\" data-toc-modified-id=\"Further-reading-5\"><span class=\"toc-item-num\">5&nbsp;&nbsp;</span>Further reading</a></span></li></ul></div>"
   ]
  },
  {
   "cell_type": "markdown",
   "metadata": {},
   "source": [
    "# Description\n",
    "This notebook is a provenance tutorial for the Biogeographic Information System. \n",
    "\n",
    "While it includes examples drawn from our work in the Biogeographic Characterization Branch, it is heavily adapted from an informative notebook produced by [Dong Huynh](https://github.com/trungdong). Entitled _PROV Python Library - A Short Tutorial by Trung Dong Huynh_, his notebook is licensed under a Creative Commons Attribution-ShareAlike 4.0 International License. Please see his original, [PROV Tutorial.ipynb](https://github.com/trungdong/notebooks/blob/master/PROV%20Tutorial.ipynb), for insight and additional examples."
   ]
  },
  {
   "cell_type": "markdown",
   "metadata": {},
   "source": [
    "# Summary\n",
    "As a lightweight, ready-made solution to our provenance needs, we are currently exploring the use of the [`prov` Python library](https://pypi.python.org/pypi/prov) to create and maintain provenance statements and the [ProvStore](https://provenance.ecs.soton.ac.uk/store/) service for storage and collaboration. The `prov` Python library closely follows the World Wide Web Consortium (W3C) [PROV Data Model](http://www.w3.org/TR/prov-dm/). Using it allows us to code our provenance work within a widely accepted framework, W3C [PROV](https://www.w3.org/TR/prov-overview/) and promotes inter-operability. The ProvStore service provides ready-made visualization and export tools for our work in addition to a straightforward, API-accessible way to store and collaborate. \n",
    "\n",
    "This notebook demonstrates how to use the library and the service to capture and trace provenance for a broad number of core [Biogeographic Information System](https://www.sciencebase.gov/catalog/item/54540d80e4b0dc779374504a) (BIS) activities. Specifically, there are examples that show how to:\n",
    "* retrieve and work with relevant items from [ScienceBase](https://www.sciencebase.gov/catalog/);\n",
    "* create provenance statements with the `prov` library;\n",
    "* export the provenance to interoperable formats such as [PROV-N](http://www.w3.org/TR/prov-n/) and [PROV-JSON](https://provenance.ecs.soton.ac.uk/prov-json/);\n",
    "* create graphical representations for better understanding, documentation and communication;\n",
    "* store and retrieve provenance on [ProvStore](https://provenance.ecs.soton.ac.uk/store); and\n",
    "* provision the resulting products for use throughout the Biogeographic Information System."
   ]
  },
  {
   "cell_type": "markdown",
   "metadata": {},
   "source": [
    "# Setup the work environment\n",
    "These are one-time operations to install dependencies needed to work with the prov Python library and ProvStore. Skip these steps if you already have the program and libraries installed."
   ]
  },
  {
   "cell_type": "markdown",
   "metadata": {},
   "source": [
    "## Operating System\n",
    "At the operating system level you'll need AT&T's [GraphViz](http://www.graphviz.org/) to produce this tutorial's graphics. An enduring and oft-used tool on Unix-like operating systems, GraphViz is frequently provided as a package in Linux distributions. If you are working on Windows or a Mac, AT&T's executables can be [downloaded](http://www.graphviz.org/Download.php) from their website. These executables may not be the current versions and may be difficult to install on your system. Please take a look at the [Third-Party (non-AT&T) Executable Packages](http://www.graphviz.org/Download..php) section for other installation options. [Homebrew](https://brew.sh) provides an easy to install and easy to maintain approach on the Mac side. \n",
    "\n",
    "After GraphViz is installed, make sure the `dot` command is on your operating system's path. "
   ]
  },
  {
   "cell_type": "markdown",
   "metadata": {},
   "source": [
    "## Python\n",
    "Install the Python [`prov` library](https://pypi.python.org/pypi/prov) on your local machine using [pip](http://pip.pypa.io/). We'll be producing graphics so install the `prov` library with support for graphical production and export to various graphic file formats. The `prov` library uses `dot` which is part of the [graphviz](https://pypi.python.org/pypi/graphviz) package mentioned above. Use python's `pip` command to install the `prov` library with support for GraphViz's `dot` program. At the command line, the bash command looks like this:\n",
    "\n",
    "```bash\n",
    "pip install prov[dot]\n",
    "```\n",
    "\n",
    "A wrapper for [ProvStore's REST API](https://provenance.ecs.soton.ac.uk/store/help/api/) is provided by the package [provstore-api](https://github.com/millar/provstore-api#installation). To install the API wrapper with `pip`, type this at the command line: \n",
    "\n",
    "```bash\n",
    "pip install provstore-api\n",
    "```\n",
    "\n",
    "You'll notice Python `import` statements scattered throughout the sections below. The `import` statements are located with the relevant tutorial section for clarity. When you write your own notebooks and scripts you may want to follow that pattern or decide to have all the `import` statements called out at the beginning."
   ]
  },
  {
   "cell_type": "markdown",
   "metadata": {},
   "source": [
    "# Examples\n",
    "Note that all the examples below build upon the fundamental W3C PROV concepts of [entities](https://www.w3.org/TR/prov-primer/#entities), [activities](http://www.w3.org/TR/prov-primer/#activities) and [agents](http://www.w3.org/TR/prov-primer/#agents-and-responsibility). "
   ]
  },
  {
   "cell_type": "markdown",
   "metadata": {},
   "source": [
    "## An article\n",
    "In this first example, we'll work with a fictitious Data Journalism article [Luc Moreau](http://www.ecs.soton.ac.uk/~lavm/) and [Paul Groth](http://pgroth.com/) lay out and develop in their 2013 book [Provenance: An Introduction to PROV](http://www.provbook.org/). (DOI [10.2200/S00528ED1V01Y201308WEB007](http://dx.doi.org/10.2200/S00528ED1V01Y201308WBE007)). If you do not have access to the book, [Dong Huynh](https://github.com/trungdong), mentioned above, [notes](https://github.com/trungdong/notebooks/blob/master/PROV%20Tutorial.ipynb) many of the details and backing material are freely available in a 2014 [slide presentation](http://www.provbook.org/tutorial/provenanceweek2014/prov-tutorial.pptx) by the PROV book authors, Moreau and Groth."
   ]
  },
  {
   "cell_type": "markdown",
   "metadata": {},
   "source": [
    "### Create a PROV document\n",
    "To create a provenance document (a package of provenance statements or assertions), import `ProvDocument` class from `prov.model`:"
   ]
  },
  {
   "cell_type": "code",
   "execution_count": null,
   "metadata": {
    "ExecuteTime": {
     "end_time": "2017-10-20T16:02:04.218202Z",
     "start_time": "2017-10-20T16:02:04.215461Z"
    },
    "collapsed": true
   },
   "outputs": [],
   "source": [
    "from prov.model import ProvDocument"
   ]
  },
  {
   "cell_type": "markdown",
   "metadata": {},
   "source": [
    "Open the empty document."
   ]
  },
  {
   "cell_type": "code",
   "execution_count": null,
   "metadata": {
    "ExecuteTime": {
     "end_time": "2017-10-20T16:02:06.827359Z",
     "start_time": "2017-10-20T16:02:06.824282Z"
    },
    "collapsed": true
   },
   "outputs": [],
   "source": [
    "# Create a new provenance document\n",
    "d1 = ProvDocument()  # d1 is now an empty provenance document"
   ]
  },
  {
   "cell_type": "markdown",
   "metadata": {},
   "source": [
    "Before asserting provenance statements, we need to have a way to refer to the \"things\" we want to describe (e.g. articles, data sets, people). For that purpose, PROV uses [qualified names](http://www.w3.org/TR/prov-dm/#term-identifier) to identify things, which essentially a shortened representation of a [URI](http://en.wikipedia.org/wiki/Uniform_resource_identifier) in the form of `prefix:localpart`. Valid qualified names require their prefixes defined, which we is going to do next."
   ]
  },
  {
   "cell_type": "code",
   "execution_count": null,
   "metadata": {
    "ExecuteTime": {
     "end_time": "2017-10-20T16:03:03.819775Z",
     "start_time": "2017-10-20T16:03:03.814444Z"
    },
    "collapsed": true
   },
   "outputs": [],
   "source": [
    "# Declaring namespaces for various prefixes used in the example\n",
    "d1.add_namespace('now', 'http://www.provbook.org/nownews/')\n",
    "d1.add_namespace('nowpeople', 'http://www.provbook.org/nownews/people/')\n",
    "d1.add_namespace('bk', 'http://www.provbook.org/ns/#')"
   ]
  },
  {
   "cell_type": "markdown",
   "metadata": {},
   "source": [
    "Now we can create things like W3C PROV [entities](http://www.w3.org/TR/prov-primer/#entities) and [agents](http://www.w3.org/TR/prov-primer/#agents-and-responsibility) and, even better, relate them with one another in a PROV compliant document."
   ]
  },
  {
   "cell_type": "code",
   "execution_count": null,
   "metadata": {
    "ExecuteTime": {
     "end_time": "2017-10-20T16:03:06.359971Z",
     "start_time": "2017-10-20T16:03:06.354673Z"
    },
    "collapsed": true
   },
   "outputs": [],
   "source": [
    "# Entity: now:employment-article-v1.html\n",
    "e1 = d1.entity('now:employment-article-v1.html')\n",
    "# Agent: nowpeople:Bob\n",
    "d1.agent('nowpeople:Bob')"
   ]
  },
  {
   "cell_type": "markdown",
   "metadata": {},
   "source": [
    "The first statement above create an entity referred to as `now:employment-article-v1.html`, which is the first version of the article about employment in our example. Note that although we provided a string as the entity's identifier, since `now` is a registered prefix, the library automatically convert the string into a valid qualified name. The newly created entity is assigned to `e1`.\n",
    "\n",
    "Similarly, the second statement create an agent called `nowpeople:Bob`. Apart from the `d1.` part at the begining of each Python statement, these statements closely resemble the correstponding PROV-N statements to assert the same information. This is a principle we followed when designing the prov library, as can be seen throughout this tutorial."
   ]
  },
  {
   "cell_type": "code",
   "execution_count": null,
   "metadata": {
    "ExecuteTime": {
     "end_time": "2017-11-12T21:15:07.092538Z",
     "start_time": "2017-11-12T21:15:07.083553Z"
    }
   },
   "outputs": [],
   "source": [
    "# attr the article to the agent\n",
    "d1.wasAttributedTo(e1, 'nowpeople:Bob')"
   ]
  },
  {
   "cell_type": "code",
   "execution_count": null,
   "metadata": {
    "ExecuteTime": {
     "end_time": "2017-10-20T16:03:10.876030Z",
     "start_time": "2017-10-20T16:03:10.870845Z"
    },
    "collapsed": true
   },
   "outputs": [],
   "source": [
    "# What we have so far (in PROV-N)\n",
    "print(d1.get_provn())"
   ]
  },
  {
   "cell_type": "markdown",
   "metadata": {},
   "source": [
    "We can add more to our simple document. The following adds a new entity `govftp:oesm11st.zip`, which is a `void:Dataset` and has the label `employment-stats-2011`. The entity's type and label are domain-specific information; similar information can be added to any record as the last argument of a statement (or as a keyword argument `other_attributes`).\n",
    "\n",
    "The last statement below then asserts that the article `now:employment-article-v1.html` was derived from the data set."
   ]
  },
  {
   "cell_type": "code",
   "execution_count": null,
   "metadata": {
    "ExecuteTime": {
     "end_time": "2017-10-20T16:03:13.461556Z",
     "start_time": "2017-10-20T16:03:13.454406Z"
    },
    "collapsed": true
   },
   "outputs": [],
   "source": [
    "# add more namespace declarations\n",
    "d1.add_namespace('govftp', 'ftp://ftp.bls.gov/pub/special.requests/oes/')\n",
    "d1.add_namespace('void', 'http://vocab.deri.ie/void#')\n",
    "\n",
    "# 'now:employment-article-v1.html' was derived from at dataset at govftp\n",
    "d1.entity('govftp:oesm11st.zip', {'prov:label': 'employment-stats-2011', 'prov:type': 'void:Dataset'})\n",
    "d1.wasDerivedFrom('now:employment-article-v1.html', 'govftp:oesm11st.zip')"
   ]
  },
  {
   "cell_type": "code",
   "execution_count": null,
   "metadata": {
    "ExecuteTime": {
     "end_time": "2017-10-20T16:03:15.022351Z",
     "start_time": "2017-10-20T16:03:15.018611Z"
    },
    "collapsed": true
   },
   "outputs": [],
   "source": [
    "print(d1.get_provn())"
   ]
  },
  {
   "cell_type": "markdown",
   "metadata": {},
   "source": [
    "Following the example, we further extend the document with a PROV [activity](http://www.w3.org/TR/prov-primer/#activities), a usage, and a generation statement."
   ]
  },
  {
   "cell_type": "code",
   "execution_count": null,
   "metadata": {
    "ExecuteTime": {
     "end_time": "2017-11-12T21:14:09.894628Z",
     "start_time": "2017-11-12T21:14:09.885853Z"
    }
   },
   "outputs": [],
   "source": [
    "# Add a PROV activity\n",
    "d1.add_namespace('is', 'http://www.provbook.org/nownews/is/#')\n",
    "d1.activity('is:writeArticle')"
   ]
  },
  {
   "cell_type": "code",
   "execution_count": null,
   "metadata": {
    "ExecuteTime": {
     "end_time": "2017-10-20T16:03:19.384161Z",
     "start_time": "2017-10-20T16:03:19.378157Z"
    },
    "collapsed": true
   },
   "outputs": [],
   "source": [
    "# Usage and Generation\n",
    "d1.used('is:writeArticle', 'govftp:oesm11st.zip')\n",
    "d1.wasGeneratedBy('now:employment-article-v1.html', 'is:writeArticle')"
   ]
  },
  {
   "cell_type": "markdown",
   "metadata": {},
   "source": [
    "### Graphics export (PNG and PDF)\n",
    "In addition to the PROV-N output (as above), the document can be exported into a graphical representation with the help of the [GraphViz](http://www.graphviz.org/). It is provided as a software package in popular Linux distributions, or can be [downloaded](http://www.graphviz.org/Download.php) for Windows and Mac.\n",
    "\n",
    "Once you have GraphViz installed and the `dot` command available in your operating system's paths, you can save the document we have so far into a PNG file as follows."
   ]
  },
  {
   "cell_type": "code",
   "execution_count": null,
   "metadata": {
    "ExecuteTime": {
     "end_time": "2017-10-25T21:05:58.891538Z",
     "start_time": "2017-10-25T21:05:58.799798Z"
    }
   },
   "outputs": [],
   "source": [
    "# visualize the graph\n",
    "from prov.dot import prov_to_dot\n",
    "dot = prov_to_dot(d1)\n",
    "dot.write_png('article-prov.png')"
   ]
  },
  {
   "cell_type": "markdown",
   "metadata": {},
   "source": [
    "The above saves the PNG file as `article-prov.png` in your current folder. If you're runing this tutorial in Jupyter Notebook, you can see it here as well."
   ]
  },
  {
   "cell_type": "code",
   "execution_count": null,
   "metadata": {
    "ExecuteTime": {
     "end_time": "2017-10-20T16:03:39.649981Z",
     "start_time": "2017-10-20T16:03:39.642450Z"
    },
    "collapsed": true
   },
   "outputs": [],
   "source": [
    "from IPython.display import Image\n",
    "Image('article-prov.png')"
   ]
  },
  {
   "cell_type": "code",
   "execution_count": null,
   "metadata": {
    "ExecuteTime": {
     "end_time": "2017-10-20T16:03:43.681684Z",
     "start_time": "2017-10-20T16:03:43.635577Z"
    },
    "collapsed": true
   },
   "outputs": [],
   "source": [
    "# Or save to a PDF\n",
    "dot.write_pdf('article-prov.pdf')"
   ]
  },
  {
   "cell_type": "markdown",
   "metadata": {},
   "source": [
    "Similarly, the above saves the document into a PDF file in your current working folder. Graphviz supports a wide ranges of [raster and vector outputs](http://www.graphviz.org/doc/info/output.html), to which you can export your provenance documents created by the library. To find out what formats are available from your version, run `dot -T?` at the command line."
   ]
  },
  {
   "cell_type": "markdown",
   "metadata": {},
   "source": [
    "### PROV-JSON export\n",
    "[PROV-JSON](https://provenance.ecs.soton.ac.uk/prov-json/) is a JSON representation for PROV that was designed for the ease of accessing various PROV elements in a PROV document and to work well with web applications. The format is natively supported by the library and is its default serialisation format."
   ]
  },
  {
   "cell_type": "code",
   "execution_count": null,
   "metadata": {
    "ExecuteTime": {
     "end_time": "2017-10-20T16:03:50.004554Z",
     "start_time": "2017-10-20T16:03:49.999414Z"
    },
    "collapsed": true
   },
   "outputs": [],
   "source": [
    "print(d1.serialize(indent=2))"
   ]
  },
  {
   "cell_type": "markdown",
   "metadata": {},
   "source": [
    "You can also serialize the document directly to a file by providing a filename (below) or a Python File object."
   ]
  },
  {
   "cell_type": "code",
   "execution_count": null,
   "metadata": {
    "ExecuteTime": {
     "end_time": "2017-10-20T16:03:52.043990Z",
     "start_time": "2017-10-20T16:03:52.039322Z"
    },
    "collapsed": true
   },
   "outputs": [],
   "source": [
    "d1.serialize('article-prov.json')"
   ]
  },
  {
   "cell_type": "markdown",
   "metadata": {},
   "source": [
    "### XML and RDF Support\n",
    "The library also supports XML and RDF serialisations for PROV (see [PROV-XML](https://www.w3.org/TR/prov-xml/) and [PROV-O](https://www.w3.org/TR/prov-o/) for more information).\n",
    "\n",
    "We just need to specify the format that we require during export and import, as shown below."
   ]
  },
  {
   "cell_type": "code",
   "execution_count": null,
   "metadata": {
    "ExecuteTime": {
     "end_time": "2017-10-20T16:03:54.829450Z",
     "start_time": "2017-10-20T16:03:54.824013Z"
    },
    "collapsed": true
   },
   "outputs": [],
   "source": [
    "d1.serialize('article-prov.xml', format='xml')"
   ]
  },
  {
   "cell_type": "markdown",
   "metadata": {},
   "source": [
    "For RDF export, we also need to specify a specific RDF serialisation. We use the [Turtle format](https://www.w3.org/TR/turtle/) in this case. For the list of supported RDF serialisations, please refer to the [RDFLib documentation](https://rdflib.readthedocs.io/)."
   ]
  },
  {
   "cell_type": "code",
   "execution_count": null,
   "metadata": {
    "ExecuteTime": {
     "end_time": "2017-10-20T16:03:57.058546Z",
     "start_time": "2017-10-20T16:03:57.043055Z"
    },
    "collapsed": true
   },
   "outputs": [],
   "source": [
    "d1.serialize('article-prov.ttl', format='rdf', rdf_format='ttl')"
   ]
  },
  {
   "cell_type": "markdown",
   "metadata": {},
   "source": [
    "### Store and retrieve the  provenance document from ProvStore\n",
    "Having the created a provenance document, you can upload it to [ProvStore](https://provenance.ecs.soton.ac.uk/store/), a free repository for provenance documents, to share it publicly/privately, or simply just to store and retrieve it back at a later time.\n",
    "In addition to storage and sharing, you can also retrieve your documents on ProvStore in further formats like XML and RDF, transform, and/or visualise them in various ways (see [this poster](http://eprints.soton.ac.uk/365509/) for more information).\n",
    "\n",
    "Before storing your document there, you need to [register for an account](https://provenance.ecs.soton.ac.uk/store/account/signup/). You can then upload the PROV-N or PROV-JSON export above via ProvStore's website. However, if you [generated an API Key](https://provenance.ecs.soton.ac.uk/store/account/developer/) for your account, you can also upload the document there directly from this tutorial as shown below.\n",
    "\n",
    "A wrapper for [ProvStore's REST API](https://provenance.ecs.soton.ac.uk/store/help/api/) is provided by the package [provstore-api](https://github.com/millar/provstore-api#installation). Please follow the [installation instructions](https://github.com/millar/provstore-api#installation) there before proceeding."
   ]
  },
  {
   "cell_type": "code",
   "execution_count": null,
   "metadata": {
    "ExecuteTime": {
     "end_time": "2017-10-20T16:04:01.413167Z",
     "start_time": "2017-10-20T16:04:01.407610Z"
    },
    "collapsed": true
   },
   "outputs": [],
   "source": [
    "# Configure ProvStore API Wrapper with your API Key\n",
    "from provstore.api import Api\n",
    "# see your API key at https://provenance.ecs.soton.ac.uk/store/account/developer/\n",
    "\n",
    "# either embed username and api-key\n",
    "# api = Api(username='<your-username>', api_key='<your-API-key>'\n",
    "\n",
    "# or omit username and api-key which forces the client to look for the  \n",
    "# PROVSTORE_USERNAME and PROVSTORE_API_KEY environment variables \n",
    "# See http://provstore-api.readthedocs.io/en/latest/provstore.html for details\n",
    "api = Api()"
   ]
  },
  {
   "cell_type": "code",
   "execution_count": null,
   "metadata": {
    "ExecuteTime": {
     "end_time": "2017-10-20T16:05:41.665727Z",
     "start_time": "2017-10-20T16:05:40.290701Z"
    },
    "collapsed": true
   },
   "outputs": [],
   "source": [
    "# Submit the document to ProvStore\n",
    "provstore_document = api.document.create(d1, name='article-prov', public=True)\n",
    "\n",
    "# Generate a nice link to the document on ProvStore so you don't have to find it manually \n",
    "from IPython.display import HTML\n",
    "document_uri = provstore_document.url\n",
    "HTML('<a href=\"%s\" target=\"_blank\">Open your new provenance document on ProvStore</a>' % document_uri)"
   ]
  },
  {
   "cell_type": "markdown",
   "metadata": {},
   "source": [
    "The first statement above submit the document `d1` to ProvStore, giving it a name (required) and making it visible to everyone (optional and private by default). Clicking on the link generated will open the page on ProvStore for the document you just submitted."
   ]
  },
  {
   "cell_type": "markdown",
   "metadata": {},
   "source": [
    "The returned object is a wrapper for the document on ProvStore identified by `provstore_document.id`, with which you can, of course, retrieve the document again from ProvStore."
   ]
  },
  {
   "cell_type": "code",
   "execution_count": null,
   "metadata": {
    "ExecuteTime": {
     "end_time": "2017-10-20T16:05:47.502576Z",
     "start_time": "2017-10-20T16:05:45.674480Z"
    },
    "collapsed": true
   },
   "outputs": [],
   "source": [
    "# Retrieve it back\n",
    "retrieved_document = api.document.get(provstore_document.id)\n",
    "d2 = retrieved_document.prov\n",
    "d1 == d2  # Is it the same document we submitted?"
   ]
  },
  {
   "cell_type": "markdown",
   "metadata": {},
   "source": [
    "Print out the retrieved d2 document, serialized as PROV-JSON."
   ]
  },
  {
   "cell_type": "code",
   "execution_count": null,
   "metadata": {
    "ExecuteTime": {
     "end_time": "2017-10-20T16:05:48.506760Z",
     "start_time": "2017-10-20T16:05:48.502397Z"
    },
    "collapsed": true
   },
   "outputs": [],
   "source": [
    "print(d2.serialize(indent=2))"
   ]
  },
  {
   "cell_type": "markdown",
   "metadata": {},
   "source": [
    "You can also remove the document from ProvStore via its API. It is a good idea to leave your account there nice and tidy anyway."
   ]
  },
  {
   "cell_type": "code",
   "execution_count": null,
   "metadata": {
    "ExecuteTime": {
     "end_time": "2017-10-20T16:05:53.793999Z",
     "start_time": "2017-10-20T16:05:52.710485Z"
    },
    "collapsed": true
   },
   "outputs": [],
   "source": [
    "# Cleaning up, delete the document\n",
    "retrieved_document.delete()"
   ]
  },
  {
   "cell_type": "code",
   "execution_count": null,
   "metadata": {
    "ExecuteTime": {
     "end_time": "2017-10-20T16:05:56.721662Z",
     "start_time": "2017-10-20T16:05:55.725447Z"
    },
    "collapsed": true
   },
   "outputs": [],
   "source": [
    "# Just to be sure, trying to retrieve it again\n",
    "api.document.get(provstore_document.id)  # the document is no longer there"
   ]
  },
  {
   "cell_type": "markdown",
   "metadata": {},
   "source": [
    "## PAD-US"
   ]
  },
  {
   "cell_type": "markdown",
   "metadata": {},
   "source": [
    "# Further reading"
   ]
  },
  {
   "cell_type": "markdown",
   "metadata": {},
   "source": [
    "* [Prov Python library's documentation](http://prov.readthedocs.io/)\n",
    "* [ProvStore's API documentation](https://provenance.ecs.soton.ac.uk/store/help/api/)\n",
    "* Book: [Provenance: An Introduction to PROV](http://www.provbook.org/)\n",
    "* [Overview of the PROV standards](http://www.w3.org/TR/prov-overview/)"
   ]
  }
 ],
 "metadata": {
  "kernelspec": {
   "display_name": "Python [conda root]",
   "language": "python",
   "name": "conda-root-py"
  },
  "language_info": {
   "codemirror_mode": {
    "name": "ipython",
    "version": 3
   },
   "file_extension": ".py",
   "mimetype": "text/x-python",
   "name": "python",
   "nbconvert_exporter": "python",
   "pygments_lexer": "ipython3",
   "version": "3.5.3"
  },
  "toc": {
   "nav_menu": {},
   "number_sections": true,
   "sideBar": true,
   "skip_h1_title": false,
   "toc_cell": true,
   "toc_position": {},
   "toc_section_display": "block",
   "toc_window_display": false
  },
  "varInspector": {
   "cols": {
    "lenName": 16,
    "lenType": 16,
    "lenVar": 40
   },
   "kernels_config": {
    "python": {
     "delete_cmd_postfix": "",
     "delete_cmd_prefix": "del ",
     "library": "var_list.py",
     "varRefreshCmd": "print(var_dic_list())"
    },
    "r": {
     "delete_cmd_postfix": ") ",
     "delete_cmd_prefix": "rm(",
     "library": "var_list.r",
     "varRefreshCmd": "cat(var_dic_list()) "
    }
   },
   "types_to_exclude": [
    "module",
    "function",
    "builtin_function_or_method",
    "instance",
    "_Feature"
   ],
   "window_display": false
  }
 },
 "nbformat": 4,
 "nbformat_minor": 1
}

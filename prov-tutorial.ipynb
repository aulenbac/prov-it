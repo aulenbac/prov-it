{
 "cells": [
  {
   "cell_type": "markdown",
   "metadata": {
    "toc": "true"
   },
   "source": [
    " # Table of Contents\n",
    "<div class=\"toc\" style=\"margin-top: 1em;\"><ul class=\"toc-item\" id=\"toc-level0\"><li><span><a href=\"http://localhost:8889/notebooks/work/bisdev/prov-it/prov-tutorial.ipynb#Description\" data-toc-modified-id=\"Description-1\"><span class=\"toc-item-num\">1&nbsp;&nbsp;</span>Description</a></span></li><li><span><a href=\"http://localhost:8889/notebooks/work/bisdev/prov-it/prov-tutorial.ipynb#Summary\" data-toc-modified-id=\"Summary-2\"><span class=\"toc-item-num\">2&nbsp;&nbsp;</span>Summary</a></span></li><li><span><a href=\"http://localhost:8889/notebooks/work/bisdev/prov-it/prov-tutorial.ipynb#Setup-the-work-environment\" data-toc-modified-id=\"Setup-the-work-environment-3\"><span class=\"toc-item-num\">3&nbsp;&nbsp;</span>Setup the work environment</a></span><ul class=\"toc-item\"><li><span><a href=\"http://localhost:8889/notebooks/work/bisdev/prov-it/prov-tutorial.ipynb#Operating-System\" data-toc-modified-id=\"Operating-System-3.1\"><span class=\"toc-item-num\">3.1&nbsp;&nbsp;</span>Operating System</a></span></li><li><span><a href=\"http://localhost:8889/notebooks/work/bisdev/prov-it/prov-tutorial.ipynb#Python\" data-toc-modified-id=\"Python-3.2\"><span class=\"toc-item-num\">3.2&nbsp;&nbsp;</span>Python</a></span></li></ul></li><li><span><a href=\"http://localhost:8889/notebooks/work/bisdev/prov-it/prov-tutorial.ipynb#Examples\" data-toc-modified-id=\"Examples-4\"><span class=\"toc-item-num\">4&nbsp;&nbsp;</span>Examples</a></span><ul class=\"toc-item\"><li><span><a href=\"http://localhost:8889/notebooks/work/bisdev/prov-it/prov-tutorial.ipynb#Online-article\" data-toc-modified-id=\"Online-article-4.1\"><span class=\"toc-item-num\">4.1&nbsp;&nbsp;</span>Online article</a></span><ul class=\"toc-item\"><li><span><a href=\"http://localhost:8889/notebooks/work/bisdev/prov-it/prov-tutorial.ipynb#Creating-a-PROV-document\" data-toc-modified-id=\"Creating-a-PROV-document-4.1.1\"><span class=\"toc-item-num\">4.1.1&nbsp;&nbsp;</span>Creating a PROV document</a></span></li><li><span><a href=\"http://localhost:8889/notebooks/work/bisdev/prov-it/prov-tutorial.ipynb#Exporting-PROV-information-for-use-and-re-use\" data-toc-modified-id=\"Exporting-PROV-information-for-use-and-re-use-4.1.2\"><span class=\"toc-item-num\">4.1.2&nbsp;&nbsp;</span>Exporting PROV information for use and re-use</a></span><ul class=\"toc-item\"><li><span><a href=\"http://localhost:8889/notebooks/work/bisdev/prov-it/prov-tutorial.ipynb#Graphical-representations\" data-toc-modified-id=\"Graphical-representations-4.1.2.1\"><span class=\"toc-item-num\">4.1.2.1&nbsp;&nbsp;</span>Graphical representations</a></span></li><li><span><a href=\"http://localhost:8889/notebooks/work/bisdev/prov-it/prov-tutorial.ipynb#Export-the-provenance-in-PROV-JSON\" data-toc-modified-id=\"Export-the-provenance-in-PROV-JSON-4.1.2.2\"><span class=\"toc-item-num\">4.1.2.2&nbsp;&nbsp;</span>Export the provenance in PROV-JSON</a></span></li><li><span><a href=\"http://localhost:8889/notebooks/work/bisdev/prov-it/prov-tutorial.ipynb#Serialize-the-provenance-in-XML-and-RDF\" data-toc-modified-id=\"Serialize-the-provenance-in-XML-and-RDF-4.1.2.3\"><span class=\"toc-item-num\">4.1.2.3&nbsp;&nbsp;</span>Serialize the provenance in XML and RDF</a></span></li></ul></li><li><span><a href=\"http://localhost:8889/notebooks/work/bisdev/prov-it/prov-tutorial.ipynb#Store-and-retrieve-the--provenance-document-from-ProvStore\" data-toc-modified-id=\"Store-and-retrieve-the--provenance-document-from-ProvStore-4.1.3\"><span class=\"toc-item-num\">4.1.3&nbsp;&nbsp;</span>Store and retrieve the  provenance document from ProvStore</a></span></li></ul></li><li><span><a href=\"http://localhost:8889/notebooks/work/bisdev/prov-it/prov-tutorial.ipynb#PAD-US\" data-toc-modified-id=\"PAD-US-4.2\"><span class=\"toc-item-num\">4.2&nbsp;&nbsp;</span>PAD-US</a></span></li></ul></li><li><span><a href=\"http://localhost:8889/notebooks/work/bisdev/prov-it/prov-tutorial.ipynb#Further-reading\" data-toc-modified-id=\"Further-reading-5\"><span class=\"toc-item-num\">5&nbsp;&nbsp;</span>Further reading</a></span></li></ul></div>"
   ]
  },
  {
   "cell_type": "markdown",
   "metadata": {},
   "source": [
    "# Description\n",
    "This notebook is a provenance tutorial for the Biogeographic Information System. \n",
    "\n",
    "While it includes examples drawn from our work in the Biogeographic Characterization Branch, the tutorial is heavily adapted from an informative notebook produced by [Trung Dong Huynh](https://github.com/trungdong). Entitled _PROV Python Library - A Short Tutorial by Trung Dong Huynh_, his notebook is provided under a Creative Commons Attribution-ShareAlike 4.0 International License. Please see his [PROV Tutorial.ipynb](https://github.com/trungdong/notebooks/blob/master/PROV%20Tutorial.ipynb) for additional insight and examples."
   ]
  },
  {
   "cell_type": "markdown",
   "metadata": {},
   "source": [
    "# Summary\n",
    "As a lightweight, ready-made solution to our provenance needs, we are considering using the [`prov` Python library](https://pypi.python.org/pypi/prov) to create and maintain provenance statements and the [ProvStore](https://provenance.ecs.soton.ac.uk/store/) service for storage and collaboration. The `prov` Python library closely follows the World Wide Web Consortium (W3C) [PROV Data Model](http://www.w3.org/TR/prov-dm/). Using it allows us to code our provenance work within a widely accepted framework, W3C [PROV](https://www.w3.org/TR/prov-overview/), and promotes inter-operability and the interchange of such information across networks such as the World Wide Web. The ProvStore service provides ready-made visualization and export tools for our work in addition to a straightforward, API-accessible way to store and collaborate. \n",
    "\n",
    "This notebook demonstrates how to use the library and the service to capture and trace provenance for a broad number of core [Biogeographic Information System](https://www.sciencebase.gov/catalog/item/54540d80e4b0dc779374504a) (BIS) activities. Specifically, there are examples that show how to:\n",
    "* create provenance statements with the `prov` library;\n",
    "* export the provenance to interoperable formats such as [PROV-N](http://www.w3.org/TR/prov-n/) and [PROV-JSON](https://provenance.ecs.soton.ac.uk/prov-json/);\n",
    "* create graphical representations for better understanding, documentation and communication;\n",
    "* store and retrieve provenance on [ProvStore](https://provenance.ecs.soton.ac.uk/store); \n",
    "* retrieve and work with relevant items from [ScienceBase](https://www.sciencebase.gov/catalog/); and\n",
    "* provision the resulting products for use throughout the Biogeographic Information System."
   ]
  },
  {
   "cell_type": "markdown",
   "metadata": {},
   "source": [
    "# Setup the work environment\n",
    "These are one-time operations to install dependencies needed to work with the prov Python library and the ProvStore service."
   ]
  },
  {
   "cell_type": "markdown",
   "metadata": {},
   "source": [
    "## Operating System\n",
    "At the operating system level you'll need AT&T's [Graphviz](http://www.graphviz.org/) to produce this tutorial's graphics. An enduring and oft-used tool on Unix-like operating systems, Graphviz is frequently provided as a package in Linux distributions. If you are working on Windows or a Mac, AT&T's executables can be [downloaded](http://www.graphviz.org/Download.php) from their website. These executables may not be the current versions and may be difficult to install on your system. Please take a look at the [Third-Party (non-AT&T) Executable Packages](http://www.graphviz.org/Download..php) section for other installation options. [Homebrew](https://brew.sh) provides an easy to install and easy to maintain approach on the Mac side. \n",
    "\n",
    "After Graphviz is installed, make sure the `dot` program is on your operating system's path. "
   ]
  },
  {
   "cell_type": "markdown",
   "metadata": {},
   "source": [
    "## Python\n",
    "Next, using Python, add the [`prov`](https://pypi.python.org/pypi/prov) and the [`ProvStore`](https://provenance.ecs.soton.ac.uk/store/) software to your work environment. Install the [`prov` library](https://pypi.python.org/pypi/prov) on your local machine using [pip](http://pip.pypa.io/), a package management system for Python software. We'll be representing provenance with graphics as well as text so do the install with support for producing visualizations and exporting standard graphic file formats. The `prov` library uses `dot` which is part of the [Graphviz](https://pypi.python.org/pypi/graphviz) package mentioned above. Use Python's `pip` command to install the `prov` library with support for the Graphviz `dot` program. At the command line, the bash command looks like this:\n",
    "\n",
    "```bash\n",
    "pip install prov[dot]\n",
    "```\n",
    "\n",
    "We'll also use Python tools to work with the [`ProvStore`](https://provenance.ecs.soton.ac.uk/store/) service. A wrapper for [ProvStore's REST API](https://provenance.ecs.soton.ac.uk/store/help/api/) is provided by the package [provstore-api](https://github.com/millar/provstore-api#installation). To install the API wrapper with `pip`, type this at the command line: \n",
    "\n",
    "```bash\n",
    "pip install provstore-api\n",
    "```\n",
    "\n",
    "You'll notice Python `import` statements scattered throughout the sections below. In this notebook, the `import` statements are located with the relevant tutorial section for clarity. When you write your own notebooks and scripts you may want to follow that pattern or decide to have all the `import` statements called out at the beginning. The choice is yours."
   ]
  },
  {
   "cell_type": "markdown",
   "metadata": {},
   "source": [
    "# Examples\n",
    "Note that all the examples in this tutorial build upon the fundamental W3C PROV concepts of [entities](https://www.w3.org/TR/prov-primer/#entities), [activities](http://www.w3.org/TR/prov-primer/#activities) and [agents](http://www.w3.org/TR/prov-primer/#agents-and-responsibility). A working knowledge of these concepts is assumed for all of the examples. If you are unfamiliar with them or need a refresher, please visit the links before working through the examples."
   ]
  },
  {
   "cell_type": "markdown",
   "metadata": {},
   "source": [
    "## Online article\n",
    "In this first example, we'll mock up the provenance for an online article. The mocked provenance will be based on the Data Journalism scenario [Luc Moreau](http://www.ecs.soton.ac.uk/~lavm/) and [Paul Groth](http://pgroth.com/) laid out in their 2013 book [Provenance: An Introduction to PROV](http://www.provbook.org/). The book contains much greater detail and provides a richer context for understanding PROV than we'll provide here. Fittingly, their PROV book has its own [website](http://www.provbook.org), [blog](http://blog.provbook.org), and [provenance](http://www.provbook.org/provapi/documents/bk.svg). \n",
    "\n",
    "If you do not have access to the book, [Trung Dong Huynh](https://github.com/trungdong), called out above, [notes](https://github.com/trungdong/notebooks/blob/master/PROV%20Tutorial.ipynb) some of the same details and backing material for the scenario are also given in a 2014 [slide presentation](http://www.provbook.org/tutorial/provenanceweek2014/prov-tutorial.pptx) by Moreau, Groth and Huynh.\n",
    "\n",
    "Please note that this article example is taken virtually verbatum from Trung Dong Huynh's [PROV Tutorial.ipynb](https://github.com/trungdong/notebooks/blob/master/PROV%20Tutorial.ipynb) notebook (accessed 14 November 2017). That said, any errors or ommissions are mine."
   ]
  },
  {
   "cell_type": "markdown",
   "metadata": {},
   "source": [
    "### Creating a PROV document\n",
    "Our first step is to create a container to hold the information we wish to record and share over the web. We'll create a provenance document. Here we define a provenance document as a package of provenance statements and assertions. We'll create a new document, our package, and add formalized statements and assertions to represent the provenance of the article. \n",
    "\n",
    "Using Python and the `prov` library, import the `ProvDocument` class from `prov.model`"
   ]
  },
  {
   "cell_type": "code",
   "execution_count": null,
   "metadata": {
    "ExecuteTime": {
     "end_time": "2017-11-24T21:11:30.611796Z",
     "start_time": "2017-11-24T21:11:30.603637Z"
    },
    "collapsed": true
   },
   "outputs": [],
   "source": [
    "from prov.model import ProvDocument"
   ]
  },
  {
   "cell_type": "markdown",
   "metadata": {},
   "source": [
    "and create an empty document, `d1`"
   ]
  },
  {
   "cell_type": "code",
   "execution_count": null,
   "metadata": {
    "ExecuteTime": {
     "end_time": "2017-11-24T21:11:33.253189Z",
     "start_time": "2017-11-24T21:11:33.249120Z"
    },
    "collapsed": true
   },
   "outputs": [],
   "source": [
    "# Create a new, empty provenance document for the article example\n",
    "d1 = ProvDocument() "
   ]
  },
  {
   "cell_type": "markdown",
   "metadata": {},
   "source": [
    "PROV uses [qualified names](http://www.w3.org/TR/prov-dm/#term-identifier) to refer to the various things or [entities](https://www.w3.org/TR/prov-primer/#entities) that we describe. A qualified name is an identifier. Here, let's think of a qualified name as a concise representation of a Uniform Resource Identifier or [URI](http://en.wikipedia.org/wiki/Uniform_resource_identifier). Using a URI allows us to concisely identify a resource on a network such as the web. You use URIs every day when you work on the web. The familiar Uniform Resource Locator ([URL](https://en.wikipedia.org/wiki/URL)) or web address is a type of URI. \n",
    "\n",
    "For our work, the qualified name URI takes the form `prefix:localpart`. We'll use this `prefix:localpart` pattern throughout this notebook. To be valid, each qualified name must have a defined prefix. \n",
    "\n",
    "Let's follow this pattern for three of the entities in the article scenario, adding a `namespace` for each entity to our new provenance document using Python."
   ]
  },
  {
   "cell_type": "code",
   "execution_count": null,
   "metadata": {
    "ExecuteTime": {
     "end_time": "2017-11-24T21:12:42.161156Z",
     "start_time": "2017-11-24T21:12:42.147044Z"
    }
   },
   "outputs": [],
   "source": [
    "# Declare namespaces for three of the defined prefixes used in the article example\n",
    "\n",
    "# Add namespace for the NowNews organization described in Moreau and Groth's Data Journalism scenario\n",
    "d1.add_namespace('now', 'http://www.provbook.org/nownews/')"
   ]
  },
  {
   "cell_type": "code",
   "execution_count": null,
   "metadata": {
    "ExecuteTime": {
     "end_time": "2017-11-24T21:12:43.322595Z",
     "start_time": "2017-11-24T21:12:43.318291Z"
    }
   },
   "outputs": [],
   "source": [
    "# Add namespace for people who work at NowNews\n",
    "d1.add_namespace('nowpeople', 'http://www.provbook.org/nownews/people/')"
   ]
  },
  {
   "cell_type": "code",
   "execution_count": null,
   "metadata": {
    "ExecuteTime": {
     "end_time": "2017-11-24T21:12:45.685842Z",
     "start_time": "2017-11-24T21:12:45.680623Z"
    }
   },
   "outputs": [],
   "source": [
    "# add namespace for the PROV book by Moreau and Groth\n",
    "d1.add_namespace('bk', 'http://www.provbook.org/ns/#')"
   ]
  },
  {
   "cell_type": "markdown",
   "metadata": {},
   "source": [
    "Note that every time we add a namespace to our provenance document `d1`, a qualified name is returned using the `prefix:localpart` pattern. For example, (`d1.add_namespace('now', 'http://www.provbook.org/nownews/'` returned `<Namespace: now {http://www.provbook.org/nownews/}>`)\n",
    "\n",
    "What does our document look like so far? Recall for the purposes of this tutorial we define a provenance document as a package of provenance statements and assertions. Assembling our statements and assertions in a structured way using the PROV standard promotes inter-operability and the interchange of provenance information across networks like the web. And since the structured information adheres to the PROV standard, we can present the same information in a number of standardized formats, matching format to the need or converting the information on-the-fly. We explore several of these below. For now, let's use [PROV-N](https://www.w3.org/TR/prov-n/), a human-readable W3C notation for provenance, to see what is in the document. Using Python, print `d1` specifying that we want to `get` the provenance information in PROV-N notation."
   ]
  },
  {
   "cell_type": "code",
   "execution_count": null,
   "metadata": {
    "ExecuteTime": {
     "end_time": "2017-11-24T21:12:51.623426Z",
     "start_time": "2017-11-24T21:12:51.619403Z"
    }
   },
   "outputs": [],
   "source": [
    "# Print what is currently packaged in our document representing the information using the PROV-N notation\n",
    "print(d1.get_provn())"
   ]
  },
  {
   "cell_type": "markdown",
   "metadata": {},
   "source": [
    "We now have three qualified names in our document. We'll use these to specify the various [entities](http://www.w3.org/TR/prov-primer/#entities) and [agents](http://www.w3.org/TR/prov-primer/#agents-and-responsibility) relevant to our Data Journalism article and to relate them with one another in our PROV compliant document, `d1`. Given the nature of PROV, we can easily additional qualified names to the document as we need them. We'll see several examples of this below.\n",
    "\n",
    "Working with the current three, let's specify a several entities and agents. Add a PROV [entity](http://www.w3.org/TR/prov-primer/#entities) for the article itself:"
   ]
  },
  {
   "cell_type": "code",
   "execution_count": null,
   "metadata": {
    "ExecuteTime": {
     "end_time": "2017-11-24T21:12:55.117621Z",
     "start_time": "2017-11-24T21:12:55.112945Z"
    }
   },
   "outputs": [],
   "source": [
    "# Add an entity for the first version of the article, now:employment-article-v1.html\n",
    "d1.entity('now:employment-article-v1.html')"
   ]
  },
  {
   "cell_type": "markdown",
   "metadata": {},
   "source": [
    "This statement creates the entity `now:employment-article-v1.html`. In [Moreau and Groth's](http://dx.doi.org/10.2200/S00528ED1V01Y201308WBE007) original Data Journalism scenario, `now:employment-article-v1.html` is the first version of the article. Note how the `prov` library recognized `now` (which represents the organization NowNews) as a registered prefix. And note the library automatically converted that entity's identifier, provided as a string, into a valid qualified name. Print the document to see this in PROV-N notation."
   ]
  },
  {
   "cell_type": "code",
   "execution_count": null,
   "metadata": {
    "ExecuteTime": {
     "end_time": "2017-11-24T21:12:59.308051Z",
     "start_time": "2017-11-24T21:12:59.303894Z"
    }
   },
   "outputs": [],
   "source": [
    "# Print what is currently packaged in our document using the PROV-N notation\n",
    "print(d1.get_provn())"
   ]
  },
  {
   "cell_type": "markdown",
   "metadata": {},
   "source": [
    "Next assign this newly created entity to `e1` with the Python statement"
   ]
  },
  {
   "cell_type": "code",
   "execution_count": null,
   "metadata": {
    "ExecuteTime": {
     "end_time": "2017-11-24T21:13:04.753511Z",
     "start_time": "2017-11-24T21:13:04.750301Z"
    },
    "collapsed": true
   },
   "outputs": [],
   "source": [
    "e1 = d1.entity('now:employment-article-v1.html')"
   ]
  },
  {
   "cell_type": "markdown",
   "metadata": {},
   "source": [
    "In the Data Journalism scenario, Bob, who works at NowNews, is the person who was responsible for writing the first version of the article, the entity we have been working with. Bob can be ascribed responsibility for the activity of writing the first version of the article. Bob can be considered a PROV agent. \n",
    "\n",
    "Add an [agent](http://www.w3.org/TR/prov-primer/#agents-and-responsibility) called `nowpeople:Bob` to `d1`.\n",
    "\n",
    "(Note, follow this [link](http://www.w3.org/TR/prov-primer/#agents-and-responsibility) to better understand the concepts of agents and responsibility in W3C PROV.) "
   ]
  },
  {
   "cell_type": "code",
   "execution_count": null,
   "metadata": {
    "ExecuteTime": {
     "end_time": "2017-11-24T21:14:04.909874Z",
     "start_time": "2017-11-24T21:14:04.905039Z"
    }
   },
   "outputs": [],
   "source": [
    "# Agent: nowpeople:Bob\n",
    "d1.agent('nowpeople:Bob')"
   ]
  },
  {
   "cell_type": "markdown",
   "metadata": {},
   "source": [
    "Let's enrich our understanding of the provenance of our simple online article and relate things in our document `d1` to one another. First, attribute the article `e1` to the author `nowpeople:Bob`. Keep in mind `e1` is a PROV entity and `nowpeople:Bob` is a PROV agent. "
   ]
  },
  {
   "cell_type": "code",
   "execution_count": null,
   "metadata": {
    "ExecuteTime": {
     "end_time": "2017-11-24T21:16:26.766119Z",
     "start_time": "2017-11-24T21:16:26.761496Z"
    }
   },
   "outputs": [],
   "source": [
    "# attribute the entity d1 to the agent Bob\n",
    "d1.wasAttributedTo(e1, 'nowpeople:Bob')"
   ]
  },
  {
   "cell_type": "code",
   "execution_count": null,
   "metadata": {
    "ExecuteTime": {
     "end_time": "2017-11-24T21:16:30.529295Z",
     "start_time": "2017-11-24T21:16:30.524739Z"
    }
   },
   "outputs": [],
   "source": [
    "# Print what is currently packaged in our document using the PROV-N notation\n",
    "print(d1.get_provn())"
   ]
  },
  {
   "cell_type": "markdown",
   "metadata": {},
   "source": [
    "Our structured yet flexible approach allows us to add provenance information as we learn more and as our needs change. \n",
    "\n",
    "At this point, we have packaged information about the article itself and about the author who wrote the article. Now let's add information about the data used in the article. In the scenario, GovStat is a government statistics office that produced the data, `oesm11st.zip`, Bob and his colleagues used when they wrote version one of the online article. GovStat serves the `oesm11st.zip` data from their FTP site, `govftp`. To capture this information, we add a fourth namespace to our document. Declare the namespace for GovStat's FTP site:"
   ]
  },
  {
   "cell_type": "code",
   "execution_count": null,
   "metadata": {
    "ExecuteTime": {
     "end_time": "2017-11-24T21:20:06.307145Z",
     "start_time": "2017-11-24T21:20:06.302721Z"
    }
   },
   "outputs": [],
   "source": [
    "# Add a namespace declaration for GovStat's FTP site\n",
    "d1.add_namespace('govftp', 'ftp://ftp.bls.gov/pub/special.requests/oes/')"
   ]
  },
  {
   "cell_type": "markdown",
   "metadata": {},
   "source": [
    "We can now add a new dataset entity, `govftp:oesm11st.zip`, to our document. According to the Data Journalism scenario, this dataset entity has several interesting characteristics in the way the data can be organized and used.  We learn it is a `void:Dataset` and decide to include that useful information in our `d1` document. To do so, we reach out over the web to [DERI Vocabularies](http://vocab.deri.ie/) and add their namespace for the [Vocabulary of Interlinked Datasets](http://vocab.deri.ie/void#) (VoID).\n",
    "\n",
    "(Note: Although out of scope for this simple tutorial, the interested reader can learn more on this topic at https://www.w3.org/TR/void/ and http://vocab.deri.ie/void.)"
   ]
  },
  {
   "cell_type": "code",
   "execution_count": null,
   "metadata": {
    "ExecuteTime": {
     "end_time": "2017-11-24T21:21:27.598546Z",
     "start_time": "2017-11-24T21:21:27.589840Z"
    }
   },
   "outputs": [],
   "source": [
    "# add namespace declaration for Vocabulary of Interlinked Datasets (VoID)\n",
    "d1.add_namespace('void', 'http://vocab.deri.ie/void#')"
   ]
  },
  {
   "cell_type": "markdown",
   "metadata": {},
   "source": [
    "We can provide additional contextual information about the `oesm11st.zip` dataset by adding an explanatory label such as `employment-stats-2011`. "
   ]
  },
  {
   "cell_type": "code",
   "execution_count": null,
   "metadata": {
    "ExecuteTime": {
     "end_time": "2017-11-24T21:22:11.906946Z",
     "start_time": "2017-11-24T21:22:11.901356Z"
    }
   },
   "outputs": [],
   "source": [
    "# create the VoID dataset entity with the employment-stats-2011 label\n",
    "d1.entity('govftp:oesm11st.zip', {'prov:label': 'employment-stats-2011', 'prov:type': 'void:Dataset'})"
   ]
  },
  {
   "cell_type": "markdown",
   "metadata": {},
   "source": [
    "We then assert the NowNews blog article `now:employment-article-v1.html` was derived from the `ovftp:oesm11st.zip` dataset and that dataset itself came from GovStat's FTP site, `govftp`. "
   ]
  },
  {
   "cell_type": "code",
   "execution_count": null,
   "metadata": {
    "ExecuteTime": {
     "end_time": "2017-11-24T21:22:24.719264Z",
     "start_time": "2017-11-24T21:22:24.714660Z"
    }
   },
   "outputs": [],
   "source": [
    "# assert 'now:employment-article-v1.html' was derived from a dataset at govftp\n",
    "d1.wasDerivedFrom('now:employment-article-v1.html', 'govftp:oesm11st.zip')"
   ]
  },
  {
   "cell_type": "code",
   "execution_count": null,
   "metadata": {
    "ExecuteTime": {
     "end_time": "2017-11-24T21:22:44.733241Z",
     "start_time": "2017-11-24T21:22:44.729071Z"
    }
   },
   "outputs": [],
   "source": [
    "# Examine the document so far\n",
    "print(d1.get_provn())"
   ]
  },
  {
   "cell_type": "markdown",
   "metadata": {},
   "source": [
    "* At this point, our provenance document contains five qualified names, several entities, \n",
    "\n",
    "Next, we extend the document with an activity, a usage, and a generation statement. Extending `d1` requires another namespace\n"
   ]
  },
  {
   "cell_type": "code",
   "execution_count": null,
   "metadata": {
    "ExecuteTime": {
     "end_time": "2017-11-24T21:31:39.938613Z",
     "start_time": "2017-11-24T21:31:39.934625Z"
    }
   },
   "outputs": [],
   "source": [
    "# Add another namespace\n",
    "d1.add_namespace('is', 'http://www.provbook.org/nownews/is/#')"
   ]
  },
  {
   "cell_type": "markdown",
   "metadata": {},
   "source": [
    "Now we can add an [activity](http://www.w3.org/TR/prov-primer/#activities). Here, the activity `is:writeArticle`."
   ]
  },
  {
   "cell_type": "code",
   "execution_count": null,
   "metadata": {
    "ExecuteTime": {
     "end_time": "2017-11-24T21:31:43.479388Z",
     "start_time": "2017-11-24T21:31:43.474257Z"
    }
   },
   "outputs": [],
   "source": [
    "# Add a PROV activity\n",
    "d1.activity('is:writeArticle')"
   ]
  },
  {
   "cell_type": "markdown",
   "metadata": {},
   "source": [
    "Add PROV [usage](https://www.w3.org/ns/prov#U) which shows the `is:writeArticle` activity used the 'govftp:oesm11st.zip' entity. "
   ]
  },
  {
   "cell_type": "code",
   "execution_count": null,
   "metadata": {
    "ExecuteTime": {
     "end_time": "2017-11-24T21:31:46.019100Z",
     "start_time": "2017-11-24T21:31:46.014214Z"
    }
   },
   "outputs": [],
   "source": [
    "# Add a PROV Usage\n",
    "d1.used('is:writeArticle', 'govftp:oesm11st.zip')"
   ]
  },
  {
   "cell_type": "markdown",
   "metadata": {},
   "source": [
    "We'll also add a PROV [generation](https://www.w3.org/ns/prov#G) which shows the 'now:employment-article-v1.html' entity was produced (generated) by the 'is:writeArticle' activity."
   ]
  },
  {
   "cell_type": "code",
   "execution_count": null,
   "metadata": {
    "ExecuteTime": {
     "end_time": "2017-11-24T21:31:49.950307Z",
     "start_time": "2017-11-24T21:31:49.945439Z"
    }
   },
   "outputs": [],
   "source": [
    "# PROV Generation\n",
    "d1.wasGeneratedBy('now:employment-article-v1.html', 'is:writeArticle')"
   ]
  },
  {
   "cell_type": "code",
   "execution_count": null,
   "metadata": {
    "ExecuteTime": {
     "end_time": "2017-11-24T21:31:51.184162Z",
     "start_time": "2017-11-24T21:31:51.179507Z"
    }
   },
   "outputs": [],
   "source": [
    "# Examine the document\n",
    "print(d1.get_provn())"
   ]
  },
  {
   "cell_type": "markdown",
   "metadata": {},
   "source": [
    "### Exporting PROV information for use and re-use"
   ]
  },
  {
   "cell_type": "markdown",
   "metadata": {},
   "source": [
    "#### Graphical representations\n",
    "\"\"\"\" In addition to the PROV-N output shown above, at any point our document can be exported into a graphical representation with the help of the [Graphviz](http://www.graphviz.org/) software we installed. \n",
    "\n",
    "you can save the document we have so far into a PNG file as follows."
   ]
  },
  {
   "cell_type": "code",
   "execution_count": null,
   "metadata": {
    "ExecuteTime": {
     "end_time": "2017-11-24T21:32:36.830699Z",
     "start_time": "2017-11-24T21:32:36.738660Z"
    }
   },
   "outputs": [],
   "source": [
    "# visualize the graph\n",
    "from prov.dot import prov_to_dot\n",
    "dot = prov_to_dot(d1)\n",
    "dot.write_png('article-prov.png')"
   ]
  },
  {
   "cell_type": "markdown",
   "metadata": {},
   "source": [
    "The above saves the PNG file as `article-prov.png` in your current folder. If you're runing this tutorial in Jupyter Notebook, you can see it here as well."
   ]
  },
  {
   "cell_type": "code",
   "execution_count": null,
   "metadata": {
    "ExecuteTime": {
     "end_time": "2017-11-24T21:32:39.377102Z",
     "start_time": "2017-11-24T21:32:39.369721Z"
    }
   },
   "outputs": [],
   "source": [
    "from IPython.display import Image\n",
    "Image('article-prov.png')"
   ]
  },
  {
   "cell_type": "code",
   "execution_count": null,
   "metadata": {
    "ExecuteTime": {
     "end_time": "2017-11-21T22:05:51.416321Z",
     "start_time": "2017-11-21T22:05:51.366922Z"
    },
    "collapsed": true
   },
   "outputs": [],
   "source": [
    "# Or save to a PDF\n",
    "dot.write_pdf('article-prov.pdf')"
   ]
  },
  {
   "cell_type": "markdown",
   "metadata": {},
   "source": [
    "Similarly, the above saves the document into a PDF file in your current working folder. Graphviz supports a wide ranges of [raster and vector outputs](http://www.graphviz.org/doc/info/output.html), to which you can export your provenance documents created by the library. To find out what formats are available from your version, run `dot -T?` at the command line."
   ]
  },
  {
   "cell_type": "markdown",
   "metadata": {},
   "source": [
    "#### Export the provenance in PROV-JSON\n",
    "[PROV-JSON](https://provenance.ecs.soton.ac.uk/prov-json/) is a JSON representation for PROV that was designed for the ease of accessing various PROV elements in a PROV document and to work well with web applications. The format is natively supported by the library and is its default serialisation format."
   ]
  },
  {
   "cell_type": "code",
   "execution_count": null,
   "metadata": {
    "ExecuteTime": {
     "end_time": "2017-11-22T18:35:32.652421Z",
     "start_time": "2017-11-22T18:35:32.565772Z"
    },
    "collapsed": true
   },
   "outputs": [],
   "source": [
    "print(d1.serialize(indent=2))"
   ]
  },
  {
   "cell_type": "markdown",
   "metadata": {},
   "source": [
    "You can also serialize the document directly to a file by providing a filename (below) or a Python File object."
   ]
  },
  {
   "cell_type": "code",
   "execution_count": null,
   "metadata": {
    "ExecuteTime": {
     "end_time": "2017-11-22T18:35:40.338201Z",
     "start_time": "2017-11-22T18:35:40.327596Z"
    },
    "collapsed": true
   },
   "outputs": [],
   "source": [
    "d1.serialize('article-prov.json')"
   ]
  },
  {
   "cell_type": "markdown",
   "metadata": {},
   "source": [
    "#### Serialize the provenance in XML and RDF\n",
    "The library also supports XML and RDF serialisations for PROV (see [PROV-XML](https://www.w3.org/TR/prov-xml/) and [PROV-O](https://www.w3.org/TR/prov-o/) for more information).\n",
    "\n",
    "We just need to specify the format that we require during export and import, as shown below."
   ]
  },
  {
   "cell_type": "code",
   "execution_count": null,
   "metadata": {
    "ExecuteTime": {
     "end_time": "2017-11-21T22:02:44.922841Z",
     "start_time": "2017-11-21T22:02:44.901358Z"
    },
    "collapsed": true
   },
   "outputs": [],
   "source": [
    "d1.serialize('article-prov.xml', format='xml')"
   ]
  },
  {
   "cell_type": "markdown",
   "metadata": {},
   "source": [
    "For RDF export, we also need to specify a specific RDF serialisation. We use the [Turtle format](https://www.w3.org/TR/turtle/) in this case. For the list of supported RDF serialisations, please refer to the [RDFLib documentation](https://rdflib.readthedocs.io/)."
   ]
  },
  {
   "cell_type": "code",
   "execution_count": null,
   "metadata": {
    "ExecuteTime": {
     "end_time": "2017-11-21T22:02:46.437657Z",
     "start_time": "2017-11-21T22:02:46.420242Z"
    },
    "collapsed": true
   },
   "outputs": [],
   "source": [
    "d1.serialize('article-prov.ttl', format='rdf', rdf_format='ttl')"
   ]
  },
  {
   "cell_type": "markdown",
   "metadata": {},
   "source": [
    "### Store and retrieve the  provenance document from ProvStore\n",
    "Having the created a provenance document, you can upload it to [ProvStore](https://provenance.ecs.soton.ac.uk/store/), a free repository for provenance documents, to share it publicly/privately, or simply just to store and retrieve it back at a later time.\n",
    "In addition to storage and sharing, you can also retrieve your documents on ProvStore in further formats like XML and RDF, transform, and/or visualise them in various ways (see [this poster](http://eprints.soton.ac.uk/365509/) for more information).\n",
    "\n",
    "Before storing your document there, you need to [register for an account](https://provenance.ecs.soton.ac.uk/store/account/signup/). You can then upload the PROV-N or PROV-JSON export above via ProvStore's website. However, if you [generated an API Key](https://provenance.ecs.soton.ac.uk/store/account/developer/) for your account, you can also upload the document there directly from this tutorial as shown below.\n",
    "\n",
    "A wrapper for [ProvStore's REST API](https://provenance.ecs.soton.ac.uk/store/help/api/) is provided by the package [provstore-api](https://github.com/millar/provstore-api#installation). Please follow the [installation instructions](https://github.com/millar/provstore-api#installation) there before proceeding."
   ]
  },
  {
   "cell_type": "code",
   "execution_count": null,
   "metadata": {
    "ExecuteTime": {
     "end_time": "2017-11-17T02:47:07.953182Z",
     "start_time": "2017-11-17T02:47:07.784506Z"
    },
    "collapsed": true
   },
   "outputs": [],
   "source": [
    "# Configure ProvStore API Wrapper with your API Key\n",
    "from provstore.api import Api\n",
    "# see your API key at https://provenance.ecs.soton.ac.uk/store/account/developer/\n",
    "\n",
    "# either embed username and api-key\n",
    "# api = Api(username='<your-username>', api_key='<your-API-key>'\n",
    "\n",
    "# or omit username and api-key which forces the client to look for the  \n",
    "# PROVSTORE_USERNAME and PROVSTORE_API_KEY environment variables \n",
    "# See http://provstore-api.readthedocs.io/en/latest/provstore.html for details\n",
    "api = Api()"
   ]
  },
  {
   "cell_type": "code",
   "execution_count": null,
   "metadata": {
    "ExecuteTime": {
     "end_time": "2017-11-17T02:47:11.919557Z",
     "start_time": "2017-11-17T02:47:09.985389Z"
    },
    "collapsed": true
   },
   "outputs": [],
   "source": [
    "# Submit the document to ProvStore\n",
    "provstore_document = api.document.create(d1, name='article-prov', public=False)\n",
    "\n",
    "# Generate a nice link to the document on ProvStore so you don't have to find it manually \n",
    "from IPython.display import HTML\n",
    "document_uri = provstore_document.url\n",
    "HTML('<a href=\"%s\" target=\"_blank\">Open your new provenance document on ProvStore</a>' % document_uri)"
   ]
  },
  {
   "cell_type": "markdown",
   "metadata": {},
   "source": [
    "The first statement above submit the document `d1` to ProvStore, giving it a name (required) and making it visible to everyone (optional and private by default). Clicking on the link generated will open the page on ProvStore for the document you just submitted."
   ]
  },
  {
   "cell_type": "markdown",
   "metadata": {},
   "source": [
    "The returned object is a wrapper for the document on ProvStore identified by `provstore_document.id`, with which you can, of course, retrieve the document again from ProvStore."
   ]
  },
  {
   "cell_type": "code",
   "execution_count": null,
   "metadata": {
    "ExecuteTime": {
     "end_time": "2017-10-20T16:05:47.502576Z",
     "start_time": "2017-10-20T16:05:45.674480Z"
    },
    "collapsed": true
   },
   "outputs": [],
   "source": [
    "# Retrieve it back\n",
    "retrieved_document = api.document.get(provstore_document.id)\n",
    "d2 = retrieved_document.prov\n",
    "d1 == d2  # Is it the same document we submitted?"
   ]
  },
  {
   "cell_type": "markdown",
   "metadata": {},
   "source": [
    "Print out the retrieved d2 document, serialized as PROV-JSON."
   ]
  },
  {
   "cell_type": "code",
   "execution_count": null,
   "metadata": {
    "ExecuteTime": {
     "end_time": "2017-10-20T16:05:48.506760Z",
     "start_time": "2017-10-20T16:05:48.502397Z"
    },
    "collapsed": true
   },
   "outputs": [],
   "source": [
    "print(d2.serialize(indent=2))"
   ]
  },
  {
   "cell_type": "markdown",
   "metadata": {},
   "source": [
    "You can also remove the document from ProvStore via its API. It is a good idea to leave your account there nice and tidy anyway."
   ]
  },
  {
   "cell_type": "code",
   "execution_count": null,
   "metadata": {
    "ExecuteTime": {
     "end_time": "2017-10-20T16:05:53.793999Z",
     "start_time": "2017-10-20T16:05:52.710485Z"
    },
    "collapsed": true
   },
   "outputs": [],
   "source": [
    "# Cleaning up, delete the document\n",
    "retrieved_document.delete()"
   ]
  },
  {
   "cell_type": "code",
   "execution_count": null,
   "metadata": {
    "ExecuteTime": {
     "end_time": "2017-10-20T16:05:56.721662Z",
     "start_time": "2017-10-20T16:05:55.725447Z"
    },
    "collapsed": true
   },
   "outputs": [],
   "source": [
    "# Just to be sure, trying to retrieve it again\n",
    "api.document.get(provstore_document.id)  # the document is no longer there"
   ]
  },
  {
   "cell_type": "markdown",
   "metadata": {},
   "source": [
    "## PAD-US"
   ]
  },
  {
   "cell_type": "markdown",
   "metadata": {},
   "source": [
    "# Further reading"
   ]
  },
  {
   "cell_type": "markdown",
   "metadata": {},
   "source": [
    "* [Overview of the PROV standards](http://www.w3.org/TR/prov-overview/)\n",
    "* [Prov Python library's documentation](http://prov.readthedocs.io/)\n",
    "* [ProvStore's API documentation](https://provenance.ecs.soton.ac.uk/store/help/api/)\n",
    "* Book: [Provenance: An Introduction to PROV](http://www.provbook.org/)\n",
    "* Notebook: [PROV Python Library - A Short Tutorial by Trung Dong Huynh]((https://github.com/trungdong/notebooks/blob/master/PROV%20Tutorial.ipynb)"
   ]
  },
  {
   "cell_type": "code",
   "execution_count": null,
   "metadata": {
    "collapsed": true
   },
   "outputs": [],
   "source": []
  }
 ],
 "metadata": {
  "kernelspec": {
   "display_name": "Python [conda root]",
   "language": "python",
   "name": "conda-root-py"
  },
  "language_info": {
   "codemirror_mode": {
    "name": "ipython",
    "version": 3
   },
   "file_extension": ".py",
   "mimetype": "text/x-python",
   "name": "python",
   "nbconvert_exporter": "python",
   "pygments_lexer": "ipython3",
   "version": "3.5.3"
  },
  "toc": {
   "nav_menu": {},
   "number_sections": true,
   "sideBar": true,
   "skip_h1_title": false,
   "toc_cell": true,
   "toc_position": {},
   "toc_section_display": "block",
   "toc_window_display": false
  },
  "varInspector": {
   "cols": {
    "lenName": 16,
    "lenType": 16,
    "lenVar": 40
   },
   "kernels_config": {
    "python": {
     "delete_cmd_postfix": "",
     "delete_cmd_prefix": "del ",
     "library": "var_list.py",
     "varRefreshCmd": "print(var_dic_list())"
    },
    "r": {
     "delete_cmd_postfix": ") ",
     "delete_cmd_prefix": "rm(",
     "library": "var_list.r",
     "varRefreshCmd": "cat(var_dic_list()) "
    }
   },
   "oldHeight": 123.64705896377563,
   "position": {
    "height": "146px",
    "left": "864.1176147460938px",
    "right": "20px",
    "top": "120px",
    "width": "351px"
   },
   "types_to_exclude": [
    "module",
    "function",
    "builtin_function_or_method",
    "instance",
    "_Feature"
   ],
   "varInspector_section_display": "block",
   "window_display": false
  },
  "widgets": {
   "application/vnd.jupyter.widget-state+json": {
    "state": {},
    "version_major": 1,
    "version_minor": 0
   }
  }
 },
 "nbformat": 4,
 "nbformat_minor": 1
}

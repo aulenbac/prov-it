{
 "cells": [
  {
   "cell_type": "markdown",
   "metadata": {
    "toc": "true"
   },
   "source": [
    " # Table of Contents\n",
    "<div class=\"toc\" style=\"margin-top: 1em;\"><ul class=\"toc-item\" id=\"toc-level0\"><li><span><a href=\"http://localhost:8888/notebooks/work/biskets/prov-it/prov-tutorial.ipynb#A-Provenance-Tutorial-for-the-Biogeographic-Information-System\" data-toc-modified-id=\"A-Provenance-Tutorial-for-the-Biogeographic-Information-System-1\"><span class=\"toc-item-num\">1&nbsp;&nbsp;</span>A Provenance Tutorial for the Biogeographic Information System</a></span><ul class=\"toc-item\"><li><span><a href=\"http://localhost:8888/notebooks/work/biskets/prov-it/prov-tutorial.ipynb#Summary\" data-toc-modified-id=\"Summary-1.1\"><span class=\"toc-item-num\">1.1&nbsp;&nbsp;</span>Summary</a></span></li><li><span><a href=\"http://localhost:8888/notebooks/work/biskets/prov-it/prov-tutorial.ipynb#Setup-the-work-environment\" data-toc-modified-id=\"Setup-the-work-environment-1.2\"><span class=\"toc-item-num\">1.2&nbsp;&nbsp;</span>Setup the work environment</a></span></li><li><span><a href=\"http://localhost:8888/notebooks/work/biskets/prov-it/prov-tutorial.ipynb#Create-a-simple-provenance-document\" data-toc-modified-id=\"Create-a-simple-provenance-document-1.3\"><span class=\"toc-item-num\">1.3&nbsp;&nbsp;</span>Create a simple provenance document</a></span></li><li><span><a href=\"http://localhost:8888/notebooks/work/biskets/prov-it/prov-tutorial.ipynb#Graphics-export-(PNG-and-PDF)\" data-toc-modified-id=\"Graphics-export-(PNG-and-PDF)-1.4\"><span class=\"toc-item-num\">1.4&nbsp;&nbsp;</span>Graphics export (PNG and PDF)</a></span></li><li><span><a href=\"http://localhost:8888/notebooks/work/biskets/prov-it/prov-tutorial.ipynb#PROV-JSON-export\" data-toc-modified-id=\"PROV-JSON-export-1.5\"><span class=\"toc-item-num\">1.5&nbsp;&nbsp;</span>PROV-JSON export</a></span></li><li><span><a href=\"http://localhost:8888/notebooks/work/biskets/prov-it/prov-tutorial.ipynb#XML-and-RDF-Support\" data-toc-modified-id=\"XML-and-RDF-Support-1.6\"><span class=\"toc-item-num\">1.6&nbsp;&nbsp;</span>XML and RDF Support</a></span></li><li><span><a href=\"http://localhost:8888/notebooks/work/biskets/prov-it/prov-tutorial.ipynb#Store-and-retrieve-provenance-documents-from-ProvStore\" data-toc-modified-id=\"Store-and-retrieve-provenance-documents-from-ProvStore-1.7\"><span class=\"toc-item-num\">1.7&nbsp;&nbsp;</span>Store and retrieve provenance documents from ProvStore</a></span></li><li><span><a href=\"http://localhost:8888/notebooks/work/biskets/prov-it/prov-tutorial.ipynb#Further-reading\" data-toc-modified-id=\"Further-reading-1.8\"><span class=\"toc-item-num\">1.8&nbsp;&nbsp;</span>Further reading</a></span></li></ul></li></ul></div>"
   ]
  },
  {
   "cell_type": "markdown",
   "metadata": {},
   "source": [
    "# A Provenance Tutorial for the Biogeographic Information System"
   ]
  },
  {
   "cell_type": "markdown",
   "metadata": {},
   "source": [
    "## Summary\n",
    "As a lightweight solution to our provenance needs, we are exploring the use of the [PROV Python library](https://pypi.python.org/pypi/prov) to create and maintain provenance statements and the [ProvStore](https://provenance.ecs.soton.ac.uk/store/) service for storage and collaboration. The PROV Python library closely follows the World Wide Web Consortium (W3C) [PROV Data Model](http://www.w3.org/TR/prov-dm/). Using it allows us to code our provenance work within a widely accepted framework, W3C [PROV](https://www.w3.org/TR/prov-overview/) and promotes inter-operability. The ProvStore service provides ready-made visualization and export tools for our work in addition to a straightforward, API-accessible way to store and collaborate. \n",
    "\n",
    "This notebook demonstrates how to use the library and the service to capture and trace provenance for a broad number of core [Biogeographic Information System](https://www.sciencebase.gov/catalog/item/54540d80e4b0dc779374504a) (BIS) activities. Specifically, there are examples that show how to:\n",
    "* retrieve and work with relevant items from [ScienceBase](https://www.sciencebase.gov/catalog/);\n",
    "* create provenance statements with the `prov` library;\n",
    "* export the provenance to interoperable formats such as [PROV-N](http://www.w3.org/TR/prov-n/) and [PROV-JSON](https://provenance.ecs.soton.ac.uk/prov-json/);\n",
    "* create graphical representations for better understanding, documentation and communication;\n",
    "* store and retrieve provenance on [ProvStore](https://provenance.ecs.soton.ac.uk/store); and\n",
    "* provision the resulting products for use throughout the Biogeographic Information System.\n",
    "\n",
    "---\n",
    "NB: This notebook is heavily adapted from one produced by [Dong Huynh](https://github.com/trungdong). That notebook, entitled _PROV Python Library - A Short Tutorial by Trung Dong Huynh_, is licensed under a Creative Commons Attribution-ShareAlike 4.0 International License. Please see his original [PROV Tutorial.ipynb](https://github.com/trungdong/notebooks/blob/master/PROV%20Tutorial.ipynb) for insight and additional examples."
   ]
  },
  {
   "cell_type": "markdown",
   "metadata": {},
   "source": [
    "## Setup the work environment"
   ]
  },
  {
   "cell_type": "markdown",
   "metadata": {},
   "source": [
    "Install the Python `prov` library on your local machine using [pip](http://pip.pypa.io/). We'll be producing graphics so install the `prov` library with support for graphical production and export to various graphic file formats. The `prov` library uses `dot` which is part of the [graphviz](https://pypi.python.org/pypi/graphviz) package. At the command line, the bash command looks like this:\n",
    "\n",
    "```bash\n",
    "pip install prov[dot]\n",
    "```\n",
    "\n",
    "You'll notice Python `import` statements scattered throughout the sections below. The `import` statements are located with the relevant tutorial section for clarity. When you write your own notebooks and scripts you may want to follow that pattern or decide to have all the `import` statements called out at the beginning."
   ]
  },
  {
   "cell_type": "markdown",
   "metadata": {},
   "source": [
    "## Create a simple provenance document"
   ]
  },
  {
   "cell_type": "markdown",
   "metadata": {},
   "source": [
    "In this tutorial, we use the Data Journalism example from [Provenance: An Introduction to PROV](http://www.provbook.org/) by [Luc Moreau](http://www.ecs.soton.ac.uk/~lavm/) and [Paul Groth](http://pgroth.com/). If you do not have access to the book, you can find the example from the [slides](http://www.provbook.org/tutorial/provenanceweek2014/prov-tutorial.pptx) by Luc and Paul (starting from slide #15). Please familarise yourself with the example and relevant PROV concepts (i.e. [entity](http://www.w3.org/TR/prov-primer/#entities), [activity](http://www.w3.org/TR/prov-primer/#activities), [agent](http://www.w3.org/TR/prov-primer/#agents-and-responsibility), ...) before proceeding with this tutorial."
   ]
  },
  {
   "cell_type": "markdown",
   "metadata": {},
   "source": [
    "To create a provenance document (a package of provenance statements or assertions), import `ProvDocument` class from `prov.model`:"
   ]
  },
  {
   "cell_type": "code",
   "execution_count": null,
   "metadata": {
    "ExecuteTime": {
     "end_time": "2017-10-11T23:13:18.941787Z",
     "start_time": "2017-10-11T23:13:18.916395Z"
    },
    "collapsed": true
   },
   "outputs": [],
   "source": [
    "from prov.model import ProvDocument"
   ]
  },
  {
   "cell_type": "code",
   "execution_count": null,
   "metadata": {
    "ExecuteTime": {
     "end_time": "2017-10-11T23:13:21.292330Z",
     "start_time": "2017-10-11T23:13:21.289044Z"
    },
    "collapsed": true
   },
   "outputs": [],
   "source": [
    "# Create a new provenance document\n",
    "d1 = ProvDocument()  # d1 is now an empty provenance document"
   ]
  },
  {
   "cell_type": "markdown",
   "metadata": {},
   "source": [
    "Before asserting provenance statements, we need to have a way to refer to the \"things\" we want to describe provenance (e.g. articles, data sets, people). For that purpose, PROV uses [qualified names](http://www.w3.org/TR/prov-dm/#term-identifier) to identify things, which essentially a shortened representation of a [URI](http://en.wikipedia.org/wiki/Uniform_resource_identifier) in the form of `prefix:localpart`. Valid qualified names require their prefixes defined, which we is going to do next."
   ]
  },
  {
   "cell_type": "code",
   "execution_count": null,
   "metadata": {
    "ExecuteTime": {
     "end_time": "2017-10-11T23:13:29.374061Z",
     "start_time": "2017-10-11T23:13:29.356701Z"
    }
   },
   "outputs": [],
   "source": [
    "# Declaring namespaces for various prefixes used in the example\n",
    "d1.add_namespace('now', 'http://www.provbook.org/nownews/')\n",
    "d1.add_namespace('nowpeople', 'http://www.provbook.org/nownews/people/')\n",
    "d1.add_namespace('bk', 'http://www.provbook.org/ns/#')"
   ]
  },
  {
   "cell_type": "markdown",
   "metadata": {},
   "source": [
    "Now we can create things like entities, agents and relate them with one another in a PROV document."
   ]
  },
  {
   "cell_type": "code",
   "execution_count": null,
   "metadata": {
    "ExecuteTime": {
     "end_time": "2017-10-11T23:13:38.247114Z",
     "start_time": "2017-10-11T23:13:38.239451Z"
    }
   },
   "outputs": [],
   "source": [
    "# Entity: now:employment-article-v1.html\n",
    "e1 = d1.entity('now:employment-article-v1.html')\n",
    "# Agent: nowpeople:Bob\n",
    "d1.agent('nowpeople:Bob')"
   ]
  },
  {
   "cell_type": "markdown",
   "metadata": {},
   "source": [
    "The first statement above create an entity referred to as `now:employment-article-v1.html`, which is the first version of the article about employment in our example. Note that although we provided a string as the entity's identifier, since `now` is a registered prefix, the library automatically convert the string into a valid qualified name. The newly created entity is assigned to `e1`.\n",
    "\n",
    "Similarly, the second statement create an agent called `nowpeople:Bob`. Apart from the `d1.` part at the begining of each Python statement, these statements closely resemble the correstponding PROV-N statements to assert the same information. This is a principle we followed when designing the prov library, as can be seen throughout this tutorial."
   ]
  },
  {
   "cell_type": "code",
   "execution_count": null,
   "metadata": {
    "ExecuteTime": {
     "end_time": "2017-10-11T23:13:43.835964Z",
     "start_time": "2017-10-11T23:13:43.830946Z"
    }
   },
   "outputs": [],
   "source": [
    "# Attributing the article to the agent\n",
    "d1.wasAttributedTo(e1, 'nowpeople:Bob')"
   ]
  },
  {
   "cell_type": "code",
   "execution_count": null,
   "metadata": {
    "ExecuteTime": {
     "end_time": "2017-10-11T23:13:48.766474Z",
     "start_time": "2017-10-11T23:13:48.761406Z"
    }
   },
   "outputs": [],
   "source": [
    "# What we have so far (in PROV-N)\n",
    "print(d1.get_provn())"
   ]
  },
  {
   "cell_type": "markdown",
   "metadata": {},
   "source": [
    "We can add more to our simple document. The following adds a new entity `govftp:oesm11st.zip`, which is a `void:Dataset` and has the label `employment-stats-2011`. The entity's type and label are domain-specific information; similar information can be added to any record as the last argument of a statement (or as a keyword argument `other_attributes`).\n",
    "\n",
    "The last statement below then asserts that the article `now:employment-article-v1.html` was derived from the data set."
   ]
  },
  {
   "cell_type": "code",
   "execution_count": null,
   "metadata": {
    "ExecuteTime": {
     "end_time": "2017-10-11T23:14:00.982557Z",
     "start_time": "2017-10-11T23:14:00.973976Z"
    }
   },
   "outputs": [],
   "source": [
    "# add more namespace declarations\n",
    "d1.add_namespace('govftp', 'ftp://ftp.bls.gov/pub/special.requests/oes/')\n",
    "d1.add_namespace('void', 'http://vocab.deri.ie/void#')\n",
    "\n",
    "# 'now:employment-article-v1.html' was derived from at dataset at govftp\n",
    "d1.entity('govftp:oesm11st.zip', {'prov:label': 'employment-stats-2011', 'prov:type': 'void:Dataset'})\n",
    "d1.wasDerivedFrom('now:employment-article-v1.html', 'govftp:oesm11st.zip')"
   ]
  },
  {
   "cell_type": "code",
   "execution_count": null,
   "metadata": {
    "ExecuteTime": {
     "end_time": "2017-10-11T23:14:03.532205Z",
     "start_time": "2017-10-11T23:14:03.526251Z"
    }
   },
   "outputs": [],
   "source": [
    "print(d1.get_provn())"
   ]
  },
  {
   "cell_type": "markdown",
   "metadata": {},
   "source": [
    "Following the example, we further extend the document with an activity, a usage, and a generation statement."
   ]
  },
  {
   "cell_type": "code",
   "execution_count": null,
   "metadata": {
    "ExecuteTime": {
     "end_time": "2017-10-11T23:14:06.398149Z",
     "start_time": "2017-10-11T23:14:06.390984Z"
    }
   },
   "outputs": [],
   "source": [
    "# Adding an activity\n",
    "d1.add_namespace('is', 'http://www.provbook.org/nownews/is/#')\n",
    "d1.activity('is:writeArticle')"
   ]
  },
  {
   "cell_type": "code",
   "execution_count": null,
   "metadata": {
    "ExecuteTime": {
     "end_time": "2017-10-11T23:14:11.106534Z",
     "start_time": "2017-10-11T23:14:11.100645Z"
    }
   },
   "outputs": [],
   "source": [
    "# Usage and Generation\n",
    "d1.used('is:writeArticle', 'govftp:oesm11st.zip')\n",
    "d1.wasGeneratedBy('now:employment-article-v1.html', 'is:writeArticle')"
   ]
  },
  {
   "cell_type": "markdown",
   "metadata": {},
   "source": [
    "## Graphics export (PNG and PDF)"
   ]
  },
  {
   "cell_type": "markdown",
   "metadata": {},
   "source": [
    "In addition to the PROV-N output (as above), the document can be exported into a graphical representation with the help of the [GraphViz](http://www.graphviz.org/). It is provided as a software package in popular Linux distributions, or can be [downloaded](http://www.graphviz.org/Download.php) for Windows and Mac.\n",
    "\n",
    "Once you have GraphViz installed and the `dot` command available in your operating system's paths, you can save the document we have so far into a PNG file as follows."
   ]
  },
  {
   "cell_type": "code",
   "execution_count": null,
   "metadata": {
    "ExecuteTime": {
     "end_time": "2017-10-11T23:14:16.040282Z",
     "start_time": "2017-10-11T23:14:15.813987Z"
    }
   },
   "outputs": [],
   "source": [
    "# visualize the graph\n",
    "from prov.dot import prov_to_dot\n",
    "dot = prov_to_dot(d1)\n",
    "dot.write_png('article-prov.png')"
   ]
  },
  {
   "cell_type": "markdown",
   "metadata": {},
   "source": [
    "The above saves the PNG file as `article-prov.png` in your current folder. If you're runing this tutorial in Jupyter Notebook, you can see it here as well."
   ]
  },
  {
   "cell_type": "code",
   "execution_count": null,
   "metadata": {
    "ExecuteTime": {
     "end_time": "2017-10-11T23:14:18.297943Z",
     "start_time": "2017-10-11T23:14:18.280630Z"
    }
   },
   "outputs": [],
   "source": [
    "from IPython.display import Image\n",
    "Image('article-prov.png')"
   ]
  },
  {
   "cell_type": "code",
   "execution_count": null,
   "metadata": {
    "ExecuteTime": {
     "end_time": "2017-10-11T23:14:21.619222Z",
     "start_time": "2017-10-11T23:14:21.557166Z"
    }
   },
   "outputs": [],
   "source": [
    "# Or save to a PDF\n",
    "dot.write_pdf('article-prov.pdf')"
   ]
  },
  {
   "cell_type": "markdown",
   "metadata": {},
   "source": [
    "Similarly, the above saves the document into a PDF file in your current working folder. Graphviz supports a wide ranges of [raster and vector outputs](http://www.graphviz.org/doc/info/output.html), to which you can export your provenance documents created by the library. To find out what formats are available from your version, run `dot -T?` at the command line."
   ]
  },
  {
   "cell_type": "markdown",
   "metadata": {},
   "source": [
    "## PROV-JSON export"
   ]
  },
  {
   "cell_type": "markdown",
   "metadata": {},
   "source": [
    "[PROV-JSON](https://provenance.ecs.soton.ac.uk/prov-json/) is a JSON representation for PROV that was designed for the ease of accessing various PROV elements in a PROV document and to work well with web applications. The format is natively supported by the library and is its default serialisation format."
   ]
  },
  {
   "cell_type": "code",
   "execution_count": null,
   "metadata": {
    "ExecuteTime": {
     "end_time": "2017-10-11T23:14:32.071485Z",
     "start_time": "2017-10-11T23:14:31.769474Z"
    }
   },
   "outputs": [],
   "source": [
    "print(d1.serialize(indent=2))"
   ]
  },
  {
   "cell_type": "markdown",
   "metadata": {},
   "source": [
    "You can also serialize the document directly to a file by providing a filename (below) or a Python File object."
   ]
  },
  {
   "cell_type": "code",
   "execution_count": null,
   "metadata": {
    "ExecuteTime": {
     "end_time": "2017-10-11T23:14:41.550622Z",
     "start_time": "2017-10-11T23:14:41.545094Z"
    },
    "collapsed": true
   },
   "outputs": [],
   "source": [
    "d1.serialize('article-prov.json')"
   ]
  },
  {
   "cell_type": "markdown",
   "metadata": {},
   "source": [
    "## XML and RDF Support"
   ]
  },
  {
   "cell_type": "markdown",
   "metadata": {},
   "source": [
    "The library also supports XML and RDF serialisations for PROV (see [PROV-XML](https://www.w3.org/TR/prov-xml/) and [PROV-O](https://www.w3.org/TR/prov-o/) for more information).\n",
    "\n",
    "We just need to specify the format that we require during export and import, as shown below."
   ]
  },
  {
   "cell_type": "code",
   "execution_count": null,
   "metadata": {
    "ExecuteTime": {
     "end_time": "2017-10-11T23:14:44.873268Z",
     "start_time": "2017-10-11T23:14:44.860301Z"
    },
    "collapsed": true
   },
   "outputs": [],
   "source": [
    "d1.serialize('article-prov.xml', format='xml')"
   ]
  },
  {
   "cell_type": "markdown",
   "metadata": {},
   "source": [
    "For RDF export, we also need to specify a specific RDF serialisation. We use the [Turtle format](https://www.w3.org/TR/turtle/) in this case. For the list of supported RDF serialisations, please refer to the [RDFLib documentation](https://rdflib.readthedocs.io/)."
   ]
  },
  {
   "cell_type": "code",
   "execution_count": null,
   "metadata": {
    "ExecuteTime": {
     "end_time": "2017-10-11T23:14:46.477491Z",
     "start_time": "2017-10-11T23:14:46.443520Z"
    },
    "collapsed": true
   },
   "outputs": [],
   "source": [
    "d1.serialize('article-prov.ttl', format='rdf', rdf_format='ttl')"
   ]
  },
  {
   "cell_type": "markdown",
   "metadata": {},
   "source": [
    "## Store and retrieve provenance documents from ProvStore"
   ]
  },
  {
   "cell_type": "markdown",
   "metadata": {},
   "source": [
    "Having the created a provenance document, you can upload it to [ProvStore](https://provenance.ecs.soton.ac.uk/store/), a free repository for provenance documents, to share it publicly/privately, or simply just to store and retrieve it back at a later time.\n",
    "In addition to storage and sharing, you can also retrieve your documents on ProvStore in further formats like XML and RDF, transform, and/or visualise them in various ways (see [this poster](http://eprints.soton.ac.uk/365509/) for more information).\n",
    "\n",
    "Before storing your document there, you need to [register for an account](https://provenance.ecs.soton.ac.uk/store/account/signup/). You can then upload the PROV-N or PROV-JSON export above via ProvStore's website. However, if you [generated an API Key](https://provenance.ecs.soton.ac.uk/store/account/developer/) for your account, you can also upload the document there directly from this tutorial as shown below.\n",
    "\n",
    "A wrapper for [ProvStore's REST API](https://provenance.ecs.soton.ac.uk/store/help/api/) is provided by the package [provstore-api](https://github.com/millar/provstore-api#installation). Please follow the [installation instructions](https://github.com/millar/provstore-api#installation) there before proceeding."
   ]
  },
  {
   "cell_type": "code",
   "execution_count": null,
   "metadata": {
    "ExecuteTime": {
     "end_time": "2017-10-11T23:14:51.753362Z",
     "start_time": "2017-10-11T23:14:51.555642Z"
    },
    "collapsed": true
   },
   "outputs": [],
   "source": [
    "# Configure ProvStore API Wrapper with your API Key\n",
    "from provstore.api import Api\n",
    "# see your API key at https://provenance.ecs.soton.ac.uk/store/account/developer/\n",
    "\n",
    "# either embed username and api-key\n",
    "# api = Api(username='<your-username>', api_key='<your-API-key>'\n",
    "\n",
    "# or omit username and api-key which forces the client to look for the  \n",
    "# PROVSTORE_USERNAME and PROVSTORE_API_KEY environment variables \n",
    "# See http://provstore-api.readthedocs.io/en/latest/provstore.html for details\n",
    "api = Api()"
   ]
  },
  {
   "cell_type": "code",
   "execution_count": null,
   "metadata": {
    "ExecuteTime": {
     "end_time": "2017-10-11T23:15:29.293067Z",
     "start_time": "2017-10-11T23:15:27.410747Z"
    }
   },
   "outputs": [],
   "source": [
    "# Submit the document to ProvStore\n",
    "provstore_document = api.document.create(d1, name='article-prov', public=True)\n",
    "\n",
    "# Generate a nice link to the document on ProvStore so you don't have to find it manually \n",
    "from IPython.display import HTML\n",
    "document_uri = provstore_document.url\n",
    "HTML('<a href=\"%s\" target=\"_blank\">Open your new provenance document on ProvStore</a>' % document_uri)"
   ]
  },
  {
   "cell_type": "markdown",
   "metadata": {},
   "source": [
    "The first statement above submit the document `d1` to ProvStore, giving it a name (required) and making it visible to everyone (optional and private by default). Clicking on the link generated will open the page on ProvStore for the document you just submitted."
   ]
  },
  {
   "cell_type": "markdown",
   "metadata": {},
   "source": [
    "The returned object is a wrapper for the document on ProvStore identified by `provstore_document.id`, with which you can, of course, retrieve the document again from ProvStore."
   ]
  },
  {
   "cell_type": "code",
   "execution_count": null,
   "metadata": {
    "ExecuteTime": {
     "end_time": "2017-10-11T23:15:35.132614Z",
     "start_time": "2017-10-11T23:15:32.584713Z"
    }
   },
   "outputs": [],
   "source": [
    "# Retrieve it back\n",
    "retrieved_document = api.document.get(provstore_document.id)\n",
    "d2 = retrieved_document.prov\n",
    "d1 == d2  # Is it the same document we submitted?"
   ]
  },
  {
   "cell_type": "markdown",
   "metadata": {},
   "source": [
    "Print out the retrieved d2 document, serialized as PROV-JSON."
   ]
  },
  {
   "cell_type": "code",
   "execution_count": null,
   "metadata": {
    "ExecuteTime": {
     "end_time": "2017-10-11T23:15:37.697476Z",
     "start_time": "2017-10-11T23:15:37.693273Z"
    }
   },
   "outputs": [],
   "source": [
    "print(d2.serialize(indent=2))"
   ]
  },
  {
   "cell_type": "markdown",
   "metadata": {},
   "source": [
    "You can also remove the document from ProvStore via its API. It is a good idea to leave your account there nice and tidy anyway."
   ]
  },
  {
   "cell_type": "code",
   "execution_count": null,
   "metadata": {
    "ExecuteTime": {
     "end_time": "2017-10-11T23:16:39.019670Z",
     "start_time": "2017-10-11T23:16:37.552706Z"
    }
   },
   "outputs": [],
   "source": [
    "# Cleaning up, delete the document\n",
    "retrieved_document.delete()"
   ]
  },
  {
   "cell_type": "code",
   "execution_count": null,
   "metadata": {
    "ExecuteTime": {
     "end_time": "2017-10-11T23:16:41.674870Z",
     "start_time": "2017-10-11T23:16:40.373394Z"
    }
   },
   "outputs": [],
   "source": [
    "# Just to be sure, trying to retrieve it again\n",
    "api.document.get(provstore_document.id)  # the document is no longer there"
   ]
  },
  {
   "cell_type": "markdown",
   "metadata": {},
   "source": [
    "## Further reading"
   ]
  },
  {
   "cell_type": "markdown",
   "metadata": {},
   "source": [
    "There it is, through a very short tutorial, you have managed to create a provenance document, export it, and store it on the cloud. Simple!\n",
    "\n",
    "If you want to find out more about how to use the library and ProvStore, here are some references:\n",
    "* [Prov Python library's documentation](http://prov.readthedocs.io/)\n",
    "* [ProvStore's API documentation](https://provenance.ecs.soton.ac.uk/store/help/api/)\n",
    "* Book: [Provenance: An Introduction to PROV](http://www.provbook.org/)\n",
    "* [Overview of the PROV standards](http://www.w3.org/TR/prov-overview/)\n",
    "\n",
    "Finally, if you have issues with the Prov Python library, please report them at our [issue tracker on Github](https://github.com/trungdong/prov/issues)."
   ]
  },
  {
   "cell_type": "markdown",
   "metadata": {},
   "source": [
    "<a rel=\"license\" href=\"http://creativecommons.org/licenses/by-sa/4.0/\"><img alt=\"Creative Commons Licence\" style=\"border-width:0\" src=\"https://i.creativecommons.org/l/by-sa/4.0/88x31.png\" /></a><br /><span xmlns:dct=\"http://purl.org/dc/terms/\" href=\"http://purl.org/dc/dcmitype/InteractiveResource\" property=\"dct:title\" rel=\"dct:type\">PROV Python Library - A Short Tutorial</span> by <a xmlns:cc=\"http://creativecommons.org/ns#\" href=\"http://about.me/dong.huynh\" property=\"cc:attributionName\" rel=\"cc:attributionURL\">Trung Dong Huynh</a> is licensed under a <a rel=\"license\" href=\"http://creativecommons.org/licenses/by-sa/4.0/\">Creative Commons Attribution-ShareAlike 4.0 International License</a>."
   ]
  }
 ],
 "metadata": {
  "kernelspec": {
   "display_name": "Python [conda root]",
   "language": "python",
   "name": "conda-root-py"
  },
  "language_info": {
   "codemirror_mode": {
    "name": "ipython",
    "version": 3
   },
   "file_extension": ".py",
   "mimetype": "text/x-python",
   "name": "python",
   "nbconvert_exporter": "python",
   "pygments_lexer": "ipython3",
   "version": "3.5.4"
  },
  "toc": {
   "nav_menu": {},
   "number_sections": true,
   "sideBar": true,
   "skip_h1_title": false,
   "toc_cell": true,
   "toc_position": {},
   "toc_section_display": "block",
   "toc_window_display": false
  },
  "varInspector": {
   "cols": {
    "lenName": 16,
    "lenType": 16,
    "lenVar": 40
   },
   "kernels_config": {
    "python": {
     "delete_cmd_postfix": "",
     "delete_cmd_prefix": "del ",
     "library": "var_list.py",
     "varRefreshCmd": "print(var_dic_list())"
    },
    "r": {
     "delete_cmd_postfix": ") ",
     "delete_cmd_prefix": "rm(",
     "library": "var_list.r",
     "varRefreshCmd": "cat(var_dic_list()) "
    }
   },
   "types_to_exclude": [
    "module",
    "function",
    "builtin_function_or_method",
    "instance",
    "_Feature"
   ],
   "window_display": false
  }
 },
 "nbformat": 4,
 "nbformat_minor": 1
}
